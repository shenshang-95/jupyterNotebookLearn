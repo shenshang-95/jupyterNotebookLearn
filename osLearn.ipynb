{
 "cells": [
  {
   "cell_type": "markdown",
   "id": "98287e70",
   "metadata": {},
   "source": [
    "<h1 style=\"text-align:center\"> Os of Python</h1>"
   ]
  },
  {
   "cell_type": "markdown",
   "id": "37bbe598",
   "metadata": {},
   "source": [
    "python 对 os 的操作练习笔记"
   ]
  },
  {
   "cell_type": "code",
   "execution_count": null,
   "id": "756dc13a",
   "metadata": {},
   "outputs": [],
   "source": [
    "#1.引入os模板\n",
    "import os"
   ]
  },
  {
   "cell_type": "code",
   "execution_count": null,
   "id": "bd93db2e",
   "metadata": {},
   "outputs": [],
   "source": [
    "#2.1.文件目录\n",
    "os.listdir()"
   ]
  },
  {
   "cell_type": "code",
   "execution_count": null,
   "id": "9efdfe99",
   "metadata": {},
   "outputs": [],
   "source": [
    "#2.2检查文件类型\n",
    "print(os.path.isfile(\"dinggao.txt\"))\n",
    "os.path.isfile(\".git\")"
   ]
  },
  {
   "cell_type": "code",
   "execution_count": null,
   "id": "f25b63d2",
   "metadata": {},
   "outputs": [],
   "source": [
    "#2.3检查文件是否存在\n",
    "print(os.path.exists(\"../notexist\")) ##上级目录是否有notexist\n",
    "os.path.exists(\".git\")"
   ]
  },
  {
   "cell_type": "code",
   "execution_count": null,
   "id": "029c2893",
   "metadata": {},
   "outputs": [],
   "source": [
    "#2.4 检查是否为绝对路径,不管文件是否存在\n",
    "print(os.path.isabs(\"C:/Users/weixi/Desktop/python\"))\n",
    "print(os.path.isabs(\"C:/Users/weixi/Desktop/notexist\"))\n",
    "os.path.isabs(\".git\")"
   ]
  },
  {
   "cell_type": "code",
   "execution_count": null,
   "id": "64bb7c89",
   "metadata": {},
   "outputs": [],
   "source": [
    "#2.5 文件重命名\n",
    "os.rename(\"dinggao.txt\",\"delete.txt\")\n",
    "os.listdir"
   ]
  },
  {
   "cell_type": "code",
   "execution_count": null,
   "id": "a3f0c8e6",
   "metadata": {},
   "outputs": [],
   "source": [
    "#2.6 删除文件\n",
    "os.remove(\"delete.txt\")\n",
    "os.listdir()"
   ]
  },
  {
   "cell_type": "code",
   "execution_count": null,
   "id": "36f19d9e",
   "metadata": {},
   "outputs": [],
   "source": [
    "#3.1创建目录\n",
    "os.mkdir(\"suiyue\")\n",
    "os.listdir()"
   ]
  },
  {
   "cell_type": "code",
   "execution_count": null,
   "id": "f08b0500",
   "metadata": {},
   "outputs": [],
   "source": [
    "#3.3 删除目录\n",
    "os.rmdir(\"suiyue\")\n",
    "os.listdir()"
   ]
  },
  {
   "cell_type": "code",
   "execution_count": null,
   "id": "c9702398",
   "metadata": {},
   "outputs": [],
   "source": [
    "#3.4 改变操作目录\n",
    "os.chdir(\"..\") #上级目录\n",
    "print(os.listdir())\n",
    "os.chdir(\"AE用图\")\n",
    "print(os.listdir())"
   ]
  },
  {
   "cell_type": "code",
   "execution_count": null,
   "id": "b95d80f4",
   "metadata": {
    "scrolled": true
   },
   "outputs": [],
   "source": [
    "#3.5 进入文件夹\n",
    "os.startfile(\"AE用图\")"
   ]
  },
  {
   "cell_type": "code",
   "execution_count": null,
   "id": "30614f23",
   "metadata": {},
   "outputs": [],
   "source": [
    "#4.获取当前路径\n",
    "os.getcwd()"
   ]
  },
  {
   "cell_type": "code",
   "execution_count": null,
   "id": "0073c444",
   "metadata": {},
   "outputs": [],
   "source": [
    "#5.返回路径\n",
    "os.path.dirname('osLearn')"
   ]
  },
  {
   "cell_type": "markdown",
   "id": "cf58e741",
   "metadata": {},
   "source": [
    "matplotlib.pyplot 操作-柱状图bar"
   ]
  },
  {
   "cell_type": "code",
   "execution_count": null,
   "id": "42f272e8",
   "metadata": {},
   "outputs": [],
   "source": [
    "#引入matplotlib.pyplot\n",
    "import matplotlib.pyplot as plt"
   ]
  },
  {
   "cell_type": "code",
   "execution_count": null,
   "id": "3eefdfd6",
   "metadata": {},
   "outputs": [],
   "source": [
    "xList1=[1,2,3,4,5,6]\n",
    "yList1=[2,4,6,8,10,12]\n",
    "xList2=[1,2,3,4,5,6]\n",
    "yList2=[3,6,9,12,15,18]\n",
    "plt.rcParams['font.sans-serif']=['SimHei']\n",
    "plt.stacked\n",
    "\n",
    "plt.bar(xList2,yList2,label=\"柱形图1\")\n",
    "plt.barh(xList1,yList1,label=\"柱形图2\")\n",
    "\n",
    "plt.plot(xList1,yList1,'r>:')\n",
    "plt.plot(xList2,yList2,'g>:')\n",
    "plt.legend(loc='best')\n",
    "plt.annotate(text=\"最高点\",xy=(6,12),xytext=(8,15),arrowprops=dict(arrowstyle='-|>',color=\"y\"))\n",
    "plt.show()"
   ]
  },
  {
   "cell_type": "code",
   "execution_count": null,
   "id": "482a0fe0",
   "metadata": {},
   "outputs": [],
   "source": [
    "import numpy as np\n",
    "import random"
   ]
  },
  {
   "cell_type": "markdown",
   "id": "d3707739",
   "metadata": {},
   "source": [
    "matplotlib.pyplot 操作-散点图scatter"
   ]
  },
  {
   "cell_type": "code",
   "execution_count": null,
   "id": "52a4466a",
   "metadata": {},
   "outputs": [],
   "source": [
    "def makeSin():\n",
    "    x=np.linspace(-10,20,300)\n",
    "    #print(xList3[0:3])\n",
    "    y=np.sin(x)\n",
    "    #print(yList3)\n",
    "    #rintList=list(zip(xList3,yList3))\n",
    "    #print(printList[0][0])\n",
    "\n",
    "    plt.rcParams['axes.unicode_minus']=False\n",
    "    plt.grid=True\n",
    "\n",
    "    for j in range(len(x)):\n",
    "        colorC=random.sample([i/255 for i in range(255)],3)\n",
    "        pointC=random.choice([i for i in range(20,90)])\n",
    "        alphaC=random.choice([i/10 for i in range(11)])\n",
    "        plt.scatter(x=x[j],y=y[j],s=pointC,color=colorC,alpha=alphaC)\n",
    "    plt.show()"
   ]
  },
  {
   "cell_type": "code",
   "execution_count": null,
   "id": "3f149047",
   "metadata": {},
   "outputs": [],
   "source": [
    "def autoR():\n",
    "    import time\n",
    "    start=time.time()\n",
    "    end=time.time()\n",
    "    lag=end-start\n",
    "    if lag%3==0:\n",
    "        makeSin()\n",
    "\n",
    "    #autoR()\n",
    "autoR()    "
   ]
  },
  {
   "cell_type": "code",
   "execution_count": null,
   "id": "5289c5fc",
   "metadata": {},
   "outputs": [],
   "source": []
  }
 ],
 "metadata": {
  "kernelspec": {
   "display_name": "Python 3 (ipykernel)",
   "language": "python",
   "name": "python3"
  },
  "language_info": {
   "codemirror_mode": {
    "name": "ipython",
    "version": 3
   },
   "file_extension": ".py",
   "mimetype": "text/x-python",
   "name": "python",
   "nbconvert_exporter": "python",
   "pygments_lexer": "ipython3",
   "version": "3.9.12"
  }
 },
 "nbformat": 4,
 "nbformat_minor": 5
}
