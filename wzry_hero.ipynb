{
 "cells": [
  {
   "cell_type": "code",
   "execution_count": 1,
   "id": "3ac6ead6",
   "metadata": {},
   "outputs": [],
   "source": [
    "import requests"
   ]
  },
  {
   "cell_type": "code",
   "execution_count": 2,
   "id": "a59090a1",
   "metadata": {},
   "outputs": [],
   "source": [
    "import re"
   ]
  },
  {
   "cell_type": "markdown",
   "id": "98bac35e",
   "metadata": {},
   "source": [
    "王者荣耀"
   ]
  },
  {
   "cell_type": "code",
   "execution_count": 3,
   "id": "f6371ad3",
   "metadata": {},
   "outputs": [],
   "source": [
    "crowl_url='https://pvp.qq.com/web201605/herolist.shtml'"
   ]
  },
  {
   "cell_type": "code",
   "execution_count": 19,
   "id": "adc162c7",
   "metadata": {},
   "outputs": [],
   "source": [
    "crowl_r=requests.get(crowl_url).content.decode('gbk')"
   ]
  },
  {
   "cell_type": "markdown",
   "id": "713435dd",
   "metadata": {},
   "source": [
    "1.通过bs来获取数据"
   ]
  },
  {
   "cell_type": "code",
   "execution_count": 5,
   "id": "f516693b",
   "metadata": {},
   "outputs": [],
   "source": [
    "from bs4 import BeautifulSoup"
   ]
  },
  {
   "cell_type": "code",
   "execution_count": 6,
   "id": "71132b8c",
   "metadata": {},
   "outputs": [],
   "source": [
    "html_tran=BeautifulSoup(crowl_r,\"html\")"
   ]
  },
  {
   "cell_type": "code",
   "execution_count": 7,
   "id": "8e6c2085",
   "metadata": {},
   "outputs": [],
   "source": [
    "import time\n",
    "get_ul=html_tran.find_all('ul',class_='herolist clearfix')\n",
    "#we=get_html[0]('li')[1]('a')[0]['href']\n",
    "get_lis=get_ul[0]('li')\n",
    "hero_list=[]\n",
    "seq_hero=1\n",
    "for values in get_lis:\n",
    "    get_html='https://pvp.qq.com/web201605/'+values('a')[0]['href']\n",
    "    #time.sleep(0.00000001)\n",
    "    get_img='https:'+values('img')[0]['src']\n",
    "    get_name=values.text\n",
    "    get_time=time.time()\n",
    "    hero_list.append((seq_hero,get_html,get_img,get_name,get_time))\n",
    "    seq_hero+=1"
   ]
  },
  {
   "cell_type": "code",
   "execution_count": 8,
   "id": "4b7e5482",
   "metadata": {},
   "outputs": [],
   "source": [
    "import csv\n",
    "op_file=open(\"C:/Users/weixi/Desktop/wzry_hero.csv\",\"wt\",newline='')\n",
    "op_csv=csv.writer(op_file)\n",
    "header=[\"序号\",\"英雄链接\",\"图片链接\",\"英雄名字\",\"获取时间戳\"]\n",
    "op_csv.writerow((\"序号\",\"英雄链接\",\"图片链接\",\"英雄名字\",\"获取时间戳\"))\n",
    "for values in hero_list:\n",
    "    #print(str(values))\n",
    "    #strs=values[1]+values[2]\n",
    "    op_csv.writerow(values)\n",
    "op_file.close()"
   ]
  },
  {
   "cell_type": "markdown",
   "id": "0ea11ced",
   "metadata": {},
   "source": [
    "2.通过正则表达式来获取"
   ]
  },
  {
   "cell_type": "raw",
   "id": "ce6814e9",
   "metadata": {},
   "source": [
    "<a href=\"herodetail/505.shtml\" target=\"_blank\"><img\\r\\n                                        src=\"//game.gtimg.cn/images/yxzj/img201606/heroimg/505/505.jpg\" width=\"91\"\\r\\n                                        height=\"91\" alt=\"瑶\">瑶</a>"
   ]
  },
  {
   "cell_type": "code",
   "execution_count": 183,
   "id": "94e44065",
   "metadata": {},
   "outputs": [
    {
     "ename": "error",
     "evalue": "internal: unsupported template operator MIN_REPEAT",
     "output_type": "error",
     "traceback": [
      "\u001b[1;31m---------------------------------------------------------------------------\u001b[0m",
      "\u001b[1;31merror\u001b[0m                                     Traceback (most recent call last)",
      "Input \u001b[1;32mIn [183]\u001b[0m, in \u001b[0;36m<cell line: 1>\u001b[1;34m()\u001b[0m\n\u001b[1;32m----> 1\u001b[0m wz_pattern\u001b[38;5;241m=\u001b[39m\u001b[43mre\u001b[49m\u001b[38;5;241;43m.\u001b[39;49m\u001b[43mcompile\u001b[49m\u001b[43m(\u001b[49m\u001b[38;5;124;43mr\u001b[39;49m\u001b[38;5;124;43m'''\u001b[39;49m\u001b[38;5;124;43m<a\u001b[39;49m\u001b[38;5;124;43m\\\u001b[39;49m\u001b[38;5;124;43mshref=\u001b[39;49m\u001b[38;5;124;43m\"\u001b[39;49m\u001b[38;5;124;43mherodetail/(.*?)\u001b[39;49m\u001b[38;5;124;43m\\\u001b[39;49m\u001b[38;5;124;43m.shtml\u001b[39;49m\u001b[38;5;124;43m\"\u001b[39;49m\u001b[38;5;124;43m\\\u001b[39;49m\u001b[38;5;124;43mstarget=\u001b[39;49m\u001b[38;5;124;43m\"\u001b[39;49m\u001b[38;5;124;43m\\\u001b[39;49m\u001b[38;5;124;43mw+\u001b[39;49m\u001b[38;5;124;43m\"\u001b[39;49m\u001b[38;5;124;43m> #找到英雄链接\u001b[39;49m\n\u001b[0;32m      2\u001b[0m \u001b[38;5;124;43m                      <img\u001b[39;49m\u001b[38;5;124;43m\\\u001b[39;49m\u001b[38;5;124;43ms+src=\u001b[39;49m\u001b[38;5;124;43m\"\u001b[39;49m\u001b[38;5;124;43m//game.gtimg.cn/images/yxzj/img201606/heroimg/(.*?)\u001b[39;49m\u001b[38;5;124;43m\"\u001b[39;49m\u001b[38;5;124;43m\\\u001b[39;49m\u001b[38;5;124;43ms\u001b[39;49m\u001b[38;5;124;43m\\\u001b[39;49m\u001b[38;5;124;43mw+ #找到图片\u001b[39;49m\n\u001b[0;32m      3\u001b[0m \u001b[38;5;124;43m                      \u001b[39;49m\u001b[38;5;124;43m'''\u001b[39;49m\u001b[43m,\u001b[49m\u001b[43mflags\u001b[49m\u001b[38;5;241;43m=\u001b[39;49m\u001b[38;5;241;43m1\u001b[39;49m\u001b[43m)\u001b[49m\n\u001b[0;32m      4\u001b[0m wz_pattern2\u001b[38;5;241m=\u001b[39mre\u001b[38;5;241m.\u001b[39mcompile(\u001b[38;5;124m'\u001b[39m\u001b[38;5;124m<a[\u001b[39m\u001b[38;5;124m\\\u001b[39m\u001b[38;5;124mS]+\u001b[39m\u001b[38;5;124m\\\u001b[39m\u001b[38;5;124mw+>*?(.*?)</a>\u001b[39m\u001b[38;5;124m'\u001b[39m)                    \n\u001b[0;32m      6\u001b[0m wz_hero_list\u001b[38;5;241m=\u001b[39mre\u001b[38;5;241m.\u001b[39mfindall(wz_pattern,crowl_r)\n",
      "File \u001b[1;32mC:\\ProgramData\\Anaconda3\\lib\\re.py:252\u001b[0m, in \u001b[0;36mcompile\u001b[1;34m(pattern, flags)\u001b[0m\n\u001b[0;32m    250\u001b[0m \u001b[38;5;28;01mdef\u001b[39;00m \u001b[38;5;21mcompile\u001b[39m(pattern, flags\u001b[38;5;241m=\u001b[39m\u001b[38;5;241m0\u001b[39m):\n\u001b[0;32m    251\u001b[0m     \u001b[38;5;124m\"\u001b[39m\u001b[38;5;124mCompile a regular expression pattern, returning a Pattern object.\u001b[39m\u001b[38;5;124m\"\u001b[39m\n\u001b[1;32m--> 252\u001b[0m     \u001b[38;5;28;01mreturn\u001b[39;00m \u001b[43m_compile\u001b[49m\u001b[43m(\u001b[49m\u001b[43mpattern\u001b[49m\u001b[43m,\u001b[49m\u001b[43m \u001b[49m\u001b[43mflags\u001b[49m\u001b[43m)\u001b[49m\n",
      "File \u001b[1;32mC:\\ProgramData\\Anaconda3\\lib\\re.py:304\u001b[0m, in \u001b[0;36m_compile\u001b[1;34m(pattern, flags)\u001b[0m\n\u001b[0;32m    302\u001b[0m \u001b[38;5;28;01mif\u001b[39;00m \u001b[38;5;129;01mnot\u001b[39;00m sre_compile\u001b[38;5;241m.\u001b[39misstring(pattern):\n\u001b[0;32m    303\u001b[0m     \u001b[38;5;28;01mraise\u001b[39;00m \u001b[38;5;167;01mTypeError\u001b[39;00m(\u001b[38;5;124m\"\u001b[39m\u001b[38;5;124mfirst argument must be string or compiled pattern\u001b[39m\u001b[38;5;124m\"\u001b[39m)\n\u001b[1;32m--> 304\u001b[0m p \u001b[38;5;241m=\u001b[39m \u001b[43msre_compile\u001b[49m\u001b[38;5;241;43m.\u001b[39;49m\u001b[43mcompile\u001b[49m\u001b[43m(\u001b[49m\u001b[43mpattern\u001b[49m\u001b[43m,\u001b[49m\u001b[43m \u001b[49m\u001b[43mflags\u001b[49m\u001b[43m)\u001b[49m\n\u001b[0;32m    305\u001b[0m \u001b[38;5;28;01mif\u001b[39;00m \u001b[38;5;129;01mnot\u001b[39;00m (flags \u001b[38;5;241m&\u001b[39m DEBUG):\n\u001b[0;32m    306\u001b[0m     \u001b[38;5;28;01mif\u001b[39;00m \u001b[38;5;28mlen\u001b[39m(_cache) \u001b[38;5;241m>\u001b[39m\u001b[38;5;241m=\u001b[39m _MAXCACHE:\n\u001b[0;32m    307\u001b[0m         \u001b[38;5;66;03m# Drop the oldest item\u001b[39;00m\n",
      "File \u001b[1;32mC:\\ProgramData\\Anaconda3\\lib\\sre_compile.py:768\u001b[0m, in \u001b[0;36mcompile\u001b[1;34m(p, flags)\u001b[0m\n\u001b[0;32m    765\u001b[0m \u001b[38;5;28;01melse\u001b[39;00m:\n\u001b[0;32m    766\u001b[0m     pattern \u001b[38;5;241m=\u001b[39m \u001b[38;5;28;01mNone\u001b[39;00m\n\u001b[1;32m--> 768\u001b[0m code \u001b[38;5;241m=\u001b[39m \u001b[43m_code\u001b[49m\u001b[43m(\u001b[49m\u001b[43mp\u001b[49m\u001b[43m,\u001b[49m\u001b[43m \u001b[49m\u001b[43mflags\u001b[49m\u001b[43m)\u001b[49m\n\u001b[0;32m    770\u001b[0m \u001b[38;5;28;01mif\u001b[39;00m flags \u001b[38;5;241m&\u001b[39m SRE_FLAG_DEBUG:\n\u001b[0;32m    771\u001b[0m     \u001b[38;5;28mprint\u001b[39m()\n",
      "File \u001b[1;32mC:\\ProgramData\\Anaconda3\\lib\\sre_compile.py:607\u001b[0m, in \u001b[0;36m_code\u001b[1;34m(p, flags)\u001b[0m\n\u001b[0;32m    604\u001b[0m _compile_info(code, p, flags)\n\u001b[0;32m    606\u001b[0m \u001b[38;5;66;03m# compile the pattern\u001b[39;00m\n\u001b[1;32m--> 607\u001b[0m \u001b[43m_compile\u001b[49m\u001b[43m(\u001b[49m\u001b[43mcode\u001b[49m\u001b[43m,\u001b[49m\u001b[43m \u001b[49m\u001b[43mp\u001b[49m\u001b[38;5;241;43m.\u001b[39;49m\u001b[43mdata\u001b[49m\u001b[43m,\u001b[49m\u001b[43m \u001b[49m\u001b[43mflags\u001b[49m\u001b[43m)\u001b[49m\n\u001b[0;32m    609\u001b[0m code\u001b[38;5;241m.\u001b[39mappend(SUCCESS)\n\u001b[0;32m    611\u001b[0m \u001b[38;5;28;01mreturn\u001b[39;00m code\n",
      "File \u001b[1;32mC:\\ProgramData\\Anaconda3\\lib\\sre_compile.py:168\u001b[0m, in \u001b[0;36m_compile\u001b[1;34m(code, pattern, flags)\u001b[0m\n\u001b[0;32m    166\u001b[0m     emit((group\u001b[38;5;241m-\u001b[39m\u001b[38;5;241m1\u001b[39m)\u001b[38;5;241m*\u001b[39m\u001b[38;5;241m2\u001b[39m)\n\u001b[0;32m    167\u001b[0m \u001b[38;5;66;03m# _compile_info(code, p, _combine_flags(flags, add_flags, del_flags))\u001b[39;00m\n\u001b[1;32m--> 168\u001b[0m \u001b[43m_compile\u001b[49m\u001b[43m(\u001b[49m\u001b[43mcode\u001b[49m\u001b[43m,\u001b[49m\u001b[43m \u001b[49m\u001b[43mp\u001b[49m\u001b[43m,\u001b[49m\u001b[43m \u001b[49m\u001b[43m_combine_flags\u001b[49m\u001b[43m(\u001b[49m\u001b[43mflags\u001b[49m\u001b[43m,\u001b[49m\u001b[43m \u001b[49m\u001b[43madd_flags\u001b[49m\u001b[43m,\u001b[49m\u001b[43m \u001b[49m\u001b[43mdel_flags\u001b[49m\u001b[43m)\u001b[49m\u001b[43m)\u001b[49m\n\u001b[0;32m    169\u001b[0m \u001b[38;5;28;01mif\u001b[39;00m group:\n\u001b[0;32m    170\u001b[0m     emit(MARK)\n",
      "File \u001b[1;32mC:\\ProgramData\\Anaconda3\\lib\\sre_compile.py:139\u001b[0m, in \u001b[0;36m_compile\u001b[1;34m(code, pattern, flags)\u001b[0m\n\u001b[0;32m    137\u001b[0m \u001b[38;5;28;01melif\u001b[39;00m op \u001b[38;5;129;01min\u001b[39;00m REPEATING_CODES:\n\u001b[0;32m    138\u001b[0m     \u001b[38;5;28;01mif\u001b[39;00m flags \u001b[38;5;241m&\u001b[39m SRE_FLAG_TEMPLATE:\n\u001b[1;32m--> 139\u001b[0m         \u001b[38;5;28;01mraise\u001b[39;00m error(\u001b[38;5;124m\"\u001b[39m\u001b[38;5;124minternal: unsupported template operator \u001b[39m\u001b[38;5;132;01m%r\u001b[39;00m\u001b[38;5;124m\"\u001b[39m \u001b[38;5;241m%\u001b[39m (op,))\n\u001b[0;32m    140\u001b[0m     \u001b[38;5;28;01mif\u001b[39;00m _simple(av[\u001b[38;5;241m2\u001b[39m]):\n\u001b[0;32m    141\u001b[0m         \u001b[38;5;28;01mif\u001b[39;00m op \u001b[38;5;129;01mis\u001b[39;00m MAX_REPEAT:\n",
      "\u001b[1;31merror\u001b[0m: internal: unsupported template operator MIN_REPEAT"
     ]
    }
   ],
   "source": [
    "wz_pattern=re.compile(r'''<a\\shref=\"herodetail/(.*?)\\.shtml\"\\starget=\"\\w+\"> #找到英雄链接\n",
    "                      <img\\s+src=\"//game.gtimg.cn/images/yxzj/img201606/heroimg/(.*?)\"\\s\\w+ #找到图片\n",
    "                      ''',flags=1)\n",
    "wz_pattern2=re.compile('<a[\\S]+\\w+>*?(.*?)</a>')                    \n",
    "\n",
    "wz_hero_list=re.findall(wz_pattern,crowl_r)\n",
    "wz_hero_list"
   ]
  }
 ],
 "metadata": {
  "kernelspec": {
   "display_name": "Python 3 (ipykernel)",
   "language": "python",
   "name": "python3"
  },
  "language_info": {
   "codemirror_mode": {
    "name": "ipython",
    "version": 3
   },
   "file_extension": ".py",
   "mimetype": "text/x-python",
   "name": "python",
   "nbconvert_exporter": "python",
   "pygments_lexer": "ipython3",
   "version": "3.9.12"
  }
 },
 "nbformat": 4,
 "nbformat_minor": 5
}
