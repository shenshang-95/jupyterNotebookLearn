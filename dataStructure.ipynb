{
 "cells": [
  {
   "cell_type": "markdown",
   "id": "3bd83e99",
   "metadata": {},
   "source": [
    "<h1 style=\"text-align:center\">数据分类与数据结构</h1>"
   ]
  },
  {
   "cell_type": "markdown",
   "id": "0bca26f5",
   "metadata": {},
   "source": [
    "<p id=\"firstPage\" style=\"text-align:center;font-size:30px;line-height:30px\">目录</p>"
   ]
  },
  {
   "cell_type": "markdown",
   "id": "6bde3f50",
   "metadata": {},
   "source": [
    "<h3>本文中所有的命名方式为：<a href=\"https://baike.baidu.com/item/驼峰命名法\" style=\"text-decoration:none;color:red\">驼峰命名法</a></h3>\n",
    "<ul><li><dl><li><a href=\"#list\" style=\"text-decoration:none\"><h2>1.List：[]</h2></a></li>\n",
    "    <li><h4 style=\"text-indent:2em\"><a href=\"#list-content\" style=\"text-decoration:none\">1.1 概念与理解</a></h4></li>\n",
    "    <li><h4 style=\"text-indent:2em\"><a href=\"#list-create\" style=\"text-decoration:none\">1.2 基本操作-创建list</a></h4></li>\n",
    "    <li><h4 style=\"text-indent:2em\"><a href=\"#list-baseHandle\" style=\"text-decoration:none\">1.3 基本操作-增删改查</a></h4></li>\n",
    "    <li><h4 style=\"text-indent:2em\"><a href=\"#list-otherHandle\" style=\"text-decoration:none\">1.4 list其他操作</a></h4></li>\n",
    "    <li><h4 style=\"text-indent:2em\"><a href=\"#yangHuiTrigon\" style=\"text-decoration:none\">1.5 杨辉三角</a></h4></li>\n",
    "    </dl></li>\n",
    "    <li><dl><li><a href=\"#tuple\" style=\"text-decoration:none\"><h2>2.Tuple：()</h2></a></li>\n",
    "    <li><h4 style=\"text-indent:2em\"><a href=\"#tuple-content\" style=\"text-decoration:none\">2.1 概念与理解</a></h4></li>\n",
    "    <li><h4 style=\"text-indent:2em\"><a href=\"#tuple-create\" style=\"text-decoration:none\">2.2 基本操作-创建tuple</a></h4></li>\n",
    "    <li><h4 style=\"text-indent:2em\"><a href=\"#tuple-baseHandle\" style=\"text-decoration:none\">2.3 基本操作-查</a></h4></li>\n",
    "    <li><h4 style=\"text-indent:2em\"><a href=\"#pi\" style=\"text-decoration:none\">2.4 祖率：Pi</a></h4></li>\n",
    "    </dl></li>\n",
    "    <li><dl><li><a href=\"#set\" style=\"text-decoration:none\"><h2>3.Set：{}</h2></a></li>\n",
    "    <li><h4 style=\"text-indent:2em\"><a href=\"#set-content\" style=\"text-decoration:none\">3.1 概念与理解</a></h4></li>\n",
    "    <li><h4 style=\"text-indent:2em\"><a href=\"#set-create\" style=\"text-decoration:none\">3.2 基本操作-创建set</a></h4></li>\n",
    "    <li><h4 style=\"text-indent:2em\"><a href=\"#set-baseHandle1\" style=\"text-decoration:none\">3.3 基本操作1-增删查</a></h4></li>\n",
    "    <li><h4 style=\"text-indent:2em\"><a href=\"#set-baseHandle2\" style=\"text-decoration:none\">3.4 基本操作2-并交差补</a></h4></li>\n",
    "    <li><h4 style=\"text-indent:2em\"><a href=\"#set-otherHandle\" style=\"text-decoration:none\">3.5 其它操作</a></h4></li>\n",
    "    <li><h4 style=\"text-indent:2em\"><a href=\"#gitHandle\" style=\"text-decoration:none\">3.6 好用的托管工具：git</a></h4></li>  \n",
    "    </dl></li>\n",
    "    <li><dl><li><a href=\"#dictonary\" style=\"text-decoration:none\"><h2>4.Dictonary：{}</h2></a></li>\n",
    "    <li><h4 style=\"text-indent:2em\"><a href=\"#dictonary-content\" style=\"text-decoration:none\">4.1 概念与理解</a></h4></li>\n",
    "    <li><h4 style=\"text-indent:2em\"><a href=\"#dictonary-create\" style=\"text-decoration:none\">4.2 基本操作-创建dictonary</a></h4></li>\n",
    "    <li><h4 style=\"text-indent:2em\"><a href=\"#dictonary-baseHandle\" style=\"text-decoration:none\">4.3 基本操作</a></h4></li>\n",
    "    <li><h4 style=\"text-indent:2em\"><a href=\"#plt\" style=\"text-decoration:none\">4.4 matplotlib操作</a></h4></li>\n",
    "    </dl></li>\n",
    "</ul>\n"
   ]
  },
  {
   "cell_type": "markdown",
   "id": "c1d63b9d",
   "metadata": {},
   "source": [
    "<p id=\"list\" style=\"font-size:20px;color:red\">1.List：[]</p>"
   ]
  },
  {
   "cell_type": "markdown",
   "id": "feddbea4",
   "metadata": {},
   "source": [
    "<p id=\"list-content\" style=\"font-size:15px\">1.1 概念与理解</p>"
   ]
  },
  {
   "cell_type": "markdown",
   "id": "07119593",
   "metadata": {},
   "source": [
    "概念详见：https://baike.baidu.com/item/list\n",
    "\n",
    "<p>理解：任何东西一旦脱离了某些条件，它将变得没有任何意义，比如 1<2 ?。下面是我的拙见。</p>\n",
    "   <p style=\"text-indent:2em\">list就是一个列表，它的存在就是为了方便我们对相关数据进行操作。正所谓无规矩不成方圆，为了我们见到这个符号就知道这个表示list，也为了方便计算机处理，更好的与我们交互，所以规定用[]来表示list。同时，我们也可以认为list就是一手数据的处理的程序化：我们拿到了某项实验或者其他的一手数据，为了进一步的研究，我们需要对数据进行处理，无外乎登记，筛查，检验，再处理这几步，而list()就是这个过程的程序化，或者说规范化。</p>\n",
    "    <p style=\"text-indent:2em\">listF=[1,2,3,9,3,\"wang\"],这是一个list，其中用“,”分开的每个值叫元素，元素可以为数字，字符等，并且可以重复出现；从左到右其排序为0，1，2，3...n，从右到左顺序为-1，-2，-3...,我们把这个顺序叫索引或下标。</p>"
   ]
  },
  {
   "cell_type": "markdown",
   "id": "ec233c93",
   "metadata": {},
   "source": [
    "<p id=\"list-create\" style=\"font-size:15px\">1.2 基本操作-创建list</p>"
   ]
  },
  {
   "cell_type": "code",
   "execution_count": null,
   "id": "ae1aab31",
   "metadata": {},
   "outputs": [],
   "source": [
    "##创建list的几种方法\n",
    "\n",
    " ##1.直接赋值\n",
    "    \n",
    "list_createFirst=[]      ##这种创建方式是英文状态下的\"[]\"!\n",
    "print(list_createFirst)\n",
    "\n",
    " ##通过list()创建\n",
    "    \n",
    "list_createSecond=list() ##注意这种方式创建list后面是英文状态下的\"()\"!\n",
    "print(list_createSecond)"
   ]
  },
  {
   "cell_type": "markdown",
   "id": "490a0413",
   "metadata": {},
   "source": [
    "<p id=\"list-baseHandle\" style=\"font-size:15px\">1.3 基本操作-增删改查</p>"
   ]
  },
  {
   "cell_type": "markdown",
   "id": "86bb92df",
   "metadata": {},
   "source": [
    "详见：https://www.runoob.com/python/python-lists.html"
   ]
  },
  {
   "cell_type": "code",
   "execution_count": null,
   "id": "b215c3bc",
   "metadata": {},
   "outputs": [],
   "source": [
    "##1.创建一个新数组\n",
    "\n",
    "createListFirst=[1,\"wang\",2,3,2,\"str\",\"true\",0] ##每个list元素用英文“,”隔开，字符用“\"\"”包裹，数字可直接输入。\n",
    "##输出看看list\n",
    "print(createListFirst)"
   ]
  },
  {
   "cell_type": "code",
   "execution_count": null,
   "id": "0909a2a5",
   "metadata": {},
   "outputs": [],
   "source": [
    "##2.给createListFirst添加新元素\n",
    "  ##1）通过append()方法：只能把元素添加到末尾\n",
    "createListFirst.append(2)       ##添加数字\n",
    "print(createListFirst)    \n",
    "createListFirst.append(\"huang\") ##添加字符类型，须用\"\"包裹\n",
    "print(createListFirst)"
   ]
  },
  {
   "cell_type": "code",
   "execution_count": null,
   "id": "fa740696",
   "metadata": {},
   "outputs": [],
   "source": [
    "##2）通过insert(index,value)方法来添加：可插入到任何位置\n",
    "createListFirst.insert(0,\"hello!\")\n",
    "print(createListFirst)"
   ]
  },
  {
   "cell_type": "code",
   "execution_count": null,
   "id": "206de6ad",
   "metadata": {},
   "outputs": [],
   "source": [
    "##3.删除list中的元素\n",
    "  ##1）通过remove()方法：需要输入要删除元素的值，继续以createListFirst为例\n",
    "    ##删除所有值为2的元素，每次只能删除一个，重复，则单次只删除第一个\n",
    "#createListFirst.remove(2)\n",
    "print(createListFirst)"
   ]
  },
  {
   "cell_type": "code",
   "execution_count": null,
   "id": "8b6f1e2e",
   "metadata": {},
   "outputs": [],
   "source": [
    " ##2）通过del 方法删除：语法为del list[indexStart:indexEnd:(step)]，可以连续删除多个元素\n",
    "    ##删除一个元素\n",
    "del createListFirst[0]\n",
    "print(createListFirst)\n",
    "    ##删除多个元素\n",
    "del createListFirst[0:2]\n",
    "print(createListFirst)\n",
    "    ##删除某个区间某几个有规律（索引）的元素\n",
    "del createListFirst[0:6:2]\n",
    "print(createListFirst)\n",
    "    ##删除整个list，谨慎使用\n",
    "#del createListFirst\n",
    "#print(createListFirst)"
   ]
  },
  {
   "cell_type": "code",
   "execution_count": null,
   "id": "b67ea0c5",
   "metadata": {},
   "outputs": [],
   "source": [
    " ##3）通过pop()方法删除：随机删除一个元素，也可以传入索引，删除指定元素；且返回删除元素\n",
    "    ##默认index=-1\n",
    "createListFirst.pop()\n",
    "print(createListFirst.pop())\n",
    "print(createListFirst)\n",
    "    ##传入索引\n",
    "createListFirst.pop(0)\n",
    "print(createListFirst.pop(0))\n",
    "print(createListFirst)"
   ]
  },
  {
   "cell_type": "code",
   "execution_count": null,
   "id": "6328bb1d",
   "metadata": {},
   "outputs": [],
   "source": [
    "##3.改变list中的值\n",
    "  ##1）直接提出索引，改变对应的值\n",
    "createListFirst[0]=\"how are you\"\n",
    "print(createListFirst)"
   ]
  },
  {
   "cell_type": "code",
   "execution_count": null,
   "id": "0fca7d8b",
   "metadata": {},
   "outputs": [],
   "source": [
    " ##2）提取片段输入对应的值,片段与值要一一对应\n",
    "createListFirst[0:3]=\"how\",\"are\",\"you\"\n",
    "print(createListFirst)"
   ]
  },
  {
   "cell_type": "code",
   "execution_count": null,
   "id": "932b1213",
   "metadata": {},
   "outputs": [],
   "source": [
    " ##3）当然也可以按步长替换，同样要求一一对应\n",
    "createListFirst[0:6:2]=\"how\",\"are\",\"you\"\n",
    "print(createListFirst)"
   ]
  },
  {
   "cell_type": "code",
   "execution_count": null,
   "id": "90889986",
   "metadata": {},
   "outputs": [],
   "source": [
    "##4.查看list中的元素\n",
    "  ##1）直接查看\n",
    "print(createListFirst)\n",
    "print(createListFirst[3])"
   ]
  },
  {
   "cell_type": "code",
   "execution_count": null,
   "id": "05378835",
   "metadata": {},
   "outputs": [],
   "source": [
    "  ##2）通过[:]查看\n",
    "print(createListFirst[:])"
   ]
  },
  {
   "cell_type": "code",
   "execution_count": null,
   "id": "5f5bc7b5",
   "metadata": {},
   "outputs": [],
   "source": [
    " ##3）直接遍历输出\n",
    "for i in createListFirst:\n",
    "    print(i)"
   ]
  },
  {
   "cell_type": "code",
   "execution_count": null,
   "id": "9e63b9c5",
   "metadata": {},
   "outputs": [],
   "source": [
    "##4）找到它的索引\n",
    "print(createListFirst[createListFirst.index(\"how\")])"
   ]
  },
  {
   "cell_type": "code",
   "execution_count": null,
   "id": "c5c492bd",
   "metadata": {},
   "outputs": [],
   "source": [
    "##5）加个序号好查找？？\n",
    "for i in range(len(createListFirst)):\n",
    "    print(i,\"--\",createListFirst[i])"
   ]
  },
  {
   "cell_type": "markdown",
   "id": "11ec804b",
   "metadata": {},
   "source": [
    "<p id=\"list-otherHandle\" style=\"font-size:15px\">1.4 list其他操作</p>"
   ]
  },
  {
   "cell_type": "code",
   "execution_count": null,
   "id": "05d41b5a",
   "metadata": {},
   "outputs": [],
   "source": [
    "##扩展1：如果要求生成一个连续的list你会怎么做，一个个输入？那太慢了，当然可以和for配合使用，那为什么不一步到位呢\n",
    "  ##我们生成x-y直接的连续自然数可以这么做,example:10-20\n",
    "seriesArray=[i for i in range(10,20)]\n",
    "print(seriesArray)\n",
    "\n",
    "  ##当然，我们也可以只输出偶数，那么，我们可以\n",
    "seriesEven=[i for i in range(10,20,2)]\n",
    "print(seriesEven)"
   ]
  },
  {
   "cell_type": "code",
   "execution_count": null,
   "id": "06886050",
   "metadata": {},
   "outputs": [],
   "source": [
    "##扩展2：清空list，保留变量名，除了list[:],我们还可以list.clear()，以seriesArray为例\n",
    "print(seriesArray)\n",
    "\n",
    "seriesArray.clear()\n",
    "print(seriesArray)"
   ]
  },
  {
   "cell_type": "code",
   "execution_count": null,
   "id": "7401a848",
   "metadata": {},
   "outputs": [],
   "source": [
    "##扩展3：给你一个很长的字符串（比如Json产生的），该如何把其中的每个字符解析到一个list中\n",
    "strF=\"whcnkjcwjdwniciwcnwi\"\n",
    "\n",
    "##比如解析上面这个字符串，我们可以（seriesArray为空list，我们放到其中）\n",
    "seriesArray=list(strF)\n",
    "print(seriesArray)\n",
    "\n",
    "##当然，我们可以反向操作，把list中的元素拼接成一个字符串，像这样\n",
    "strCopyF=\"\".join(seriesArray)\n",
    "print(strCopyF)"
   ]
  },
  {
   "cell_type": "code",
   "execution_count": null,
   "id": "76f8a17a",
   "metadata": {},
   "outputs": [],
   "source": [
    "##扩展4：统计需求，我们需要知道原始数据里面的某项数据共有多少个，在数据摘抄无遗漏的情况下，可以这样得到（example：\"j\" of seriesArray）\n",
    "print(seriesArray.count(\"j\"))\n",
    "\n",
    "##我们可以通过循环来验证其正确性\n",
    "for value in seriesArray:\n",
    "    if \"j\"==value:\n",
    "        print(value)"
   ]
  },
  {
   "cell_type": "code",
   "execution_count": null,
   "id": "88ddf722",
   "metadata": {},
   "outputs": [],
   "source": [
    "##扩展5：合并数组与比较数组\n",
    "   ##合并数组\n",
    "listArrayF=[i for i in range(10,20,2)]\n",
    "listArrayS=[i for i in range(0,20,2)]\n",
    "print(listArrayF,\"\\n\",listArrayS)\n",
    "total=listArrayF+listArrayS\n",
    "print(total)"
   ]
  },
  {
   "cell_type": "code",
   "execution_count": null,
   "id": "32e6ac03",
   "metadata": {},
   "outputs": [],
   "source": [
    "##数组比较\n",
    "compare=[value for value in listArrayF if value in listArrayS]\n",
    "print(compare)"
   ]
  },
  {
   "cell_type": "markdown",
   "id": "d38d3ae1",
   "metadata": {},
   "source": [
    "<p id=\"yangHuiTrigon\" style=\"font-size:15px\">1.5 杨辉三角</p>"
   ]
  },
  {
   "cell_type": "markdown",
   "id": "781e9dbb",
   "metadata": {},
   "source": [
    "<p>来一个好玩的print()输出图形：<a href=\"https://baike.baidu.com/item/杨辉三角\" style=\"text-decoration:none\">杨辉三角</a>（首现于《详解九章算法》）。</p>\n",
    "<h1 style=\"color:red;text-indent:2em;line-height:40px\">在欧洲，这个表叫做帕斯卡三角形。帕斯卡（1623----1662）是在1654年发现这一规律的，比杨辉要迟393年，比贾宪迟600年。</h1>"
   ]
  },
  {
   "attachments": {
    "%E6%9D%A8%E8%BE%89%E4%B8%89%E8%A7%92.webp": {
     "image/webp": "[encoded data removed]"
    }
   },
   "cell_type": "markdown",
   "id": "8632b36e",
   "metadata": {},
   "source": [
    "![%E6%9D%A8%E8%BE%89%E4%B8%89%E8%A7%92.webp](attachment:%E6%9D%A8%E8%BE%89%E4%B8%89%E8%A7%92.webp)"
   ]
  },
  {
   "cell_type": "code",
   "execution_count": null,
   "id": "341dfd85",
   "metadata": {},
   "outputs": [],
   "source": [
    "##我们先产生一个矩阵看看特点"
   ]
  },
  {
   "cell_type": "code",
   "execution_count": null,
   "id": "b721b8dc",
   "metadata": {},
   "outputs": [],
   "source": [
    "##提示：其每一行为（a+b）**n的二项式系数,即：\n",
    "##C(n,0),C(n,1),C(n,2),...,C(n,n-2),C(n,n-1),C(n,n)"
   ]
  },
  {
   "cell_type": "code",
   "execution_count": null,
   "id": "97d29667",
   "metadata": {},
   "outputs": [],
   "source": [
    "#1.先求阶乘 n！\n",
    "def factorial(n):\n",
    "    if n==0:\n",
    "        return 1\n",
    "    else:\n",
    "        return n*factorial(n-1)\n",
    "#这个函数的时间复杂度太大了，可以优化，但目前没必要\n",
    "#这个内核很容易挂掉，配置不好的电脑谨慎尝试"
   ]
  },
  {
   "cell_type": "code",
   "execution_count": null,
   "id": "566fdfbc",
   "metadata": {},
   "outputs": [],
   "source": [
    "#优化阶乘函数\n",
    "def factorialQ(n):\n",
    "    #start=time.time()\n",
    "    s=1\n",
    "    for i in range(1,n+1):\n",
    "        if n==1:\n",
    "            return 1\n",
    "        else:\n",
    "            s=s*i\n",
    "    #end=time.time()\n",
    "    #useTime=end-start\n",
    "    return s #,useTime,"
   ]
  },
  {
   "cell_type": "code",
   "execution_count": null,
   "id": "6157e21a",
   "metadata": {
    "scrolled": false
   },
   "outputs": [],
   "source": [
    "factorialQ(1)"
   ]
  },
  {
   "cell_type": "code",
   "execution_count": null,
   "id": "3ddfa92c",
   "metadata": {},
   "outputs": [],
   "source": [
    "factorial(90)"
   ]
  },
  {
   "cell_type": "code",
   "execution_count": null,
   "id": "873d5ad3",
   "metadata": {},
   "outputs": [],
   "source": [
    "#引入时间函数，来比较一下，这俩的快慢\n",
    "import time\n",
    "def eventListern(n):\n",
    "    '''递归时间长度计算'''\n",
    "    start=time.time()\n",
    "    factorial(n)\n",
    "    end=time.time()\n",
    "    useTime=end-start\n",
    "    return useTime\n",
    "\n",
    "def eventListernQ(n):\n",
    "    '''赋值时间长度计算'''\n",
    "    start=time.time()\n",
    "    factorialQ(n)\n",
    "    end=time.time()\n",
    "    useTime=end-start\n",
    "    return useTime\n",
    "\n",
    "def timeCompare(n):\n",
    "    result=eventListern(n)-eventListernQ(n)\n",
    "    return result"
   ]
  },
  {
   "cell_type": "code",
   "execution_count": null,
   "id": "9585b779",
   "metadata": {},
   "outputs": [],
   "source": [
    "timeCompare(100000)"
   ]
  },
  {
   "cell_type": "markdown",
   "id": "d84e44c3",
   "metadata": {},
   "source": [
    "### 我们知道，对于任意的C(n,m)有：C(n,m)=n!/m!(n-m)!，那么："
   ]
  },
  {
   "cell_type": "code",
   "execution_count": null,
   "id": "02a412c5",
   "metadata": {},
   "outputs": [],
   "source": [
    "#2.对于其中一层来说：\n",
    "def listRow(num_oneline):\n",
    "    numRow=[]\n",
    "    if num_oneline==1:\n",
    "        return [1]\n",
    "    if num_oneline==2:\n",
    "        return [1,1]\n",
    "    else:\n",
    "        num_oneline=num_oneline-1\n",
    "        for i in range(num_oneline+1):\n",
    "            result=factorial(num_oneline)/(factorial(i)*factorial(num_oneline-i))\n",
    "            numRow.append(result)\n",
    "    return numRow"
   ]
  },
  {
   "cell_type": "code",
   "execution_count": null,
   "id": "bc338156",
   "metadata": {},
   "outputs": [],
   "source": [
    "listRow(4)"
   ]
  },
  {
   "cell_type": "code",
   "execution_count": null,
   "id": "f626c0ed",
   "metadata": {},
   "outputs": [],
   "source": [
    "#3.那么，对于整个矩阵来说，应该是\n",
    "def yangHuiT(tier):\n",
    "    printContent=[]\n",
    "    for i in range(1,tier+1):\n",
    "        printContent.append(listRow(i))\n",
    "    return printContent"
   ]
  },
  {
   "cell_type": "code",
   "execution_count": null,
   "id": "60e78756",
   "metadata": {},
   "outputs": [],
   "source": [
    "yangHuiT(5)"
   ]
  },
  {
   "cell_type": "code",
   "execution_count": null,
   "id": "be391940",
   "metadata": {},
   "outputs": [],
   "source": [
    "#4.输出,打印,搞个函数\n",
    "#美化输出\n",
    "def print_figure(listPr):   \n",
    "    for values in listPr:\n",
    "        space=len(listPr)-len(values)\n",
    "        #print(space)\n",
    "        if len(values)==1:\n",
    "            print(\" \"*(5*space-1),end=\"\")\n",
    "            print(1,end=\"   \")\n",
    "            print(\"   \",end=\"\")\n",
    "        else:\n",
    "            print(\" \"*5*space,end=\"\")\n",
    "            if len(values)==2:  \n",
    "                for i in values:\n",
    "                    print(i,end=\"    \")\n",
    "                    print(\"   \",end=\"\")\n",
    "            else:\n",
    "                for i in values:\n",
    "                    print(i,end=\"    \")\n",
    "                    print(\" \",end=\"\")\n",
    "        print(\"\\n\")    "
   ]
  },
  {
   "cell_type": "code",
   "execution_count": null,
   "id": "80e865ea",
   "metadata": {},
   "outputs": [],
   "source": [
    "print_figure(yangHuiT(12))"
   ]
  },
  {
   "cell_type": "code",
   "execution_count": null,
   "id": "97f72c77",
   "metadata": {},
   "outputs": [],
   "source": [
    "masterTri(10)"
   ]
  },
  {
   "cell_type": "code",
   "execution_count": null,
   "id": "57947087",
   "metadata": {},
   "outputs": [],
   "source": [
    "#5.综上所列，其总的函数应该是\n",
    "def masterTri(tier):\n",
    "    '''\n",
    "    杨辉三角生成函数：\n",
    "       参数 tier：要生成的矩阵高度，为正整数，比如3；\n",
    "       其中，模块的运行速度有很大的提高空间；\n",
    "       输出也可以美化。\n",
    "       \n",
    "    '''\n",
    "    def print_figure(listPr):   \n",
    "        for values in listPr:\n",
    "            space=len(listPr)-len(values)\n",
    "            #print(space)\n",
    "            if len(values)==1:\n",
    "                print(\" \"*(5*space-1),end=\"\")\n",
    "                print(1,end=\"   \")\n",
    "                print(\"   \",end=\"\")\n",
    "            else:\n",
    "                print(\" \"*5*space,end=\"\")\n",
    "                if len(values)==2:  \n",
    "                    for i in values:\n",
    "                        print(i,end=\"    \")\n",
    "                        print(\"   \",end=\"\")\n",
    "                else:\n",
    "                    for i in values:\n",
    "                        print(i,end=\"    \")\n",
    "                        print(\" \",end=\"\")\n",
    "            print(\"\\n\")  \n",
    "        \n",
    "    def yangHuiT(tier):\n",
    "        printContent=[]\n",
    "        for i in range(1,tier+1):\n",
    "            printContent.append(listRow(i))\n",
    "        return printContent\n",
    "    \n",
    "    def listRow(num_oneline):\n",
    "        numRow=[]\n",
    "        if num_oneline==1:\n",
    "            return [1]\n",
    "        if num_oneline==2:\n",
    "            return [1,1]\n",
    "        else:\n",
    "            num_oneline=num_oneline-1\n",
    "            for i in range(num_oneline+1):\n",
    "                result=factorial(num_oneline)/(factorial(i)*factorial(num_oneline-i))\n",
    "                numRow.append(result)\n",
    "        return numRow\n",
    "    \n",
    "    def factorialQ(n):\n",
    "        #start=time.time()\n",
    "        s=1\n",
    "        for i in range(1,n+1):\n",
    "            if n==1:\n",
    "                return 1\n",
    "            else:\n",
    "                s=s*i\n",
    "        #end=time.time()\n",
    "        #useTime=end-start\n",
    "        return s #,useTime,\n",
    "        \n",
    "    print_figure(yangHuiT(tier))"
   ]
  },
  {
   "cell_type": "markdown",
   "id": "b2adefc5",
   "metadata": {},
   "source": [
    "<a href=\"#firstPage\" style=\"float:right;margin-right:50px;text-decoration:none;color:red\">点击返回首页</a>"
   ]
  },
  {
   "cell_type": "markdown",
   "id": "d7401594",
   "metadata": {},
   "source": [
    "<p id=\"tuple\" style=\"font-size:20px;color:red\">2.Tuple：()</a>"
   ]
  },
  {
   "cell_type": "markdown",
   "id": "afd6868e",
   "metadata": {},
   "source": [
    "<p id=\"tuple-content\" style=\"font-size:15px\">2.1 概念与理解</p>"
   ]
  },
  {
   "cell_type": "markdown",
   "id": "4297071e",
   "metadata": {},
   "source": [
    "<p>样例：exampleTuple=(1,2,\"ww\",12)</p>\n"
   ]
  },
  {
   "cell_type": "markdown",
   "id": "b796af31",
   "metadata": {},
   "source": [
    "概念详见：https://www.runoob.com/python/att-tuple-tuple.html"
   ]
  },
  {
   "cell_type": "markdown",
   "id": "c6d62f6d",
   "metadata": {},
   "source": [
    "理解：为一个函数，把列表转化为元组,其中元素不可更改,只能查看，可以看作是list后的确定数据,并且它的元素可以重复。"
   ]
  },
  {
   "cell_type": "markdown",
   "id": "393f7779",
   "metadata": {},
   "source": [
    "<p id=\"tuple-create\" style=\"font-size:15px\">2.4 基本操作-创建tuple</p>"
   ]
  },
  {
   "cell_type": "code",
   "execution_count": null,
   "id": "09154c6f",
   "metadata": {},
   "outputs": [],
   "source": [
    "##通过tuple方法创建数组\n",
    "exampleTu=(1,2,3,\"suiyue\",7)\n",
    "exampleTu"
   ]
  },
  {
   "cell_type": "markdown",
   "id": "3f8a34bc",
   "metadata": {},
   "source": [
    "<p id=\"tuple-baseHandle\" style=\"font-size:15px\">2.3 基本操作-查</p>"
   ]
  },
  {
   "cell_type": "code",
   "execution_count": null,
   "id": "763ded72",
   "metadata": {},
   "outputs": [],
   "source": [
    "##直接tuple()就可以了\n",
    "##1.对list\n",
    "exampleList=[1,2,1,2,3,4,0,\"oidnc\"]\n",
    "print(exampleList)\n",
    "tupleTran=tuple(exampleList)\n",
    "print(tupleTran)"
   ]
  },
  {
   "cell_type": "code",
   "execution_count": null,
   "id": "276db46e",
   "metadata": {},
   "outputs": [],
   "source": [
    "##其中元素不可更改\n",
    "print(tupleTran[0])\n",
    "\n",
    "##我们通过语句来跳过错误，看更改结果\n",
    "try:\n",
    "   tupleTran[0]=\"3\"## 报错\n",
    "except: ##发现并没有更改\n",
    "   print(tupleTran,\"\\n\",tupleTran[0])"
   ]
  },
  {
   "cell_type": "code",
   "execution_count": null,
   "id": "a8a12ac1",
   "metadata": {},
   "outputs": [],
   "source": [
    "##2.对dictonary，默认取出 keys 值\n",
    "exampleDict={\"name\":\"moumou\",\n",
    "            \"sex\":\"boy\",\n",
    "            \"gen\":22}\n",
    "tupleDictF=tuple(exampleDict)\n",
    "print(tupleDictF)\n"
   ]
  },
  {
   "cell_type": "code",
   "execution_count": null,
   "id": "c969da88",
   "metadata": {},
   "outputs": [],
   "source": [
    "##我们可以对dict本身操作，使得tuple()取出values 和 items。\n",
    "tupleDictS=tuple(exampleDict.values())\n",
    "print(tupleDictS)\n",
    "\n",
    "tupleDictT=tuple(exampleDict.items())\n",
    "print(tupleDictT)"
   ]
  },
  {
   "cell_type": "code",
   "execution_count": null,
   "id": "7b09b6b6",
   "metadata": {},
   "outputs": [],
   "source": [
    "##对于元组本身来说，返回元组\n",
    "exampleTupleS=(1,2,3,2,\"jco\")\n",
    "\n",
    "transT=tuple(exampleTupleS)\n",
    "print(transT)"
   ]
  },
  {
   "cell_type": "markdown",
   "id": "89f918e3",
   "metadata": {},
   "source": [
    "<p id=\"pi\" style=\"font-size:15px\">2.4 祖率：Pi</p>"
   ]
  },
  {
   "cell_type": "markdown",
   "id": "efa92fd6",
   "metadata": {},
   "source": [
    "详细信息参考：https://baike.baidu.com/item/圆周率                          "
   ]
  },
  {
   "cell_type": "markdown",
   "id": "50c2e76d",
   "metadata": {},
   "source": [
    "<p style=\"display:inline-block;margin-right:50px\">发展简史</p> <a href=\"#circle\" style=\"float:right;margin-right:100px;text-decoration:none;color:red;font-size:20px;line-height:30px\">点击跳过</a>\n",
    "<table id=\"table\" log-set-param=\"table_view\" data-sort=\"sortDisabled\"><tbody><tr><td align=\"center\" width=\"155\" height=\"23\"><div class=\"para\" label-module=\"para\"><b>日期</b></div></td><td align=\"center\" width=\"155\" height=\"23\"><div class=\"para\" label-module=\"para\"><b>计算者</b></div></td><td align=\"center\" width=\"155\" height=\"23\"><div class=\"para\" label-module=\"para\"><b>国籍</b></div></td><td align=\"center\" width=\"155\" height=\"23\"><div class=\"para\" label-module=\"para\"><b>正确位数</b></div></td><td align=\"left\" width=\"155\" height=\"23\"><div class=\"para\" label-module=\"para\"><b>详细纪录</b></div></td></tr><tr><td align=\"center\" width=\"155\"><div class=\"para\" label-module=\"para\">前20世纪</div></td><td align=\"center\" width=\"155\"><div class=\"para\" label-module=\"para\">未知</div></td><td align=\"center\" width=\"155\"><div class=\"para\" label-module=\"para\"><a target=\"_blank\" href=\"/item/%E5%8F%A4%E5%B7%B4%E6%AF%94%E4%BC%A6%E7%8E%8B%E5%9B%BD\">古巴比伦王国</a></div></td><td align=\"center\" width=\"155\"><div class=\"para\" label-module=\"para\">1</div></td><td valign=\"top\" align=\"left\" width=\"155\"><div class=\"para\" label-module=\"para\">π=3.125</div></td></tr><tr><td align=\"center\" width=\"155\"><div class=\"para\" label-module=\"para\">前20世纪</div></td><td align=\"center\" width=\"155\"><div class=\"para\" label-module=\"para\">未知</div></td><td align=\"center\" width=\"155\"><div class=\"para\" label-module=\"para\"><a target=\"_blank\" href=\"/item/%E5%8F%A4%E5%8D%B0%E5%BA%A6\">古印度</a></div></td><td align=\"center\" width=\"155\"><div class=\"para\" label-module=\"para\">1</div></td><td valign=\"top\" align=\"left\" width=\"155\"><div class=\"para\" label-module=\"para\">π=3.160493...</div></td></tr><tr><td align=\"center\" width=\"155\"><div class=\"para\" label-module=\"para\">前12世纪</div></td><td align=\"center\" width=\"155\"><div class=\"para\" label-module=\"para\">未知</div></td><td align=\"center\" width=\"155\"><div class=\"para\" label-module=\"para\">中国</div></td><td align=\"center\" width=\"155\"><div class=\"para\" label-module=\"para\">-</div></td><td valign=\"top\" align=\"left\" width=\"155\"><div class=\"para\" label-module=\"para\">π=3</div></td></tr><tr><td align=\"center\" width=\"155\"><div class=\"para\" label-module=\"para\">前6世纪中</div></td><td colspan=\"2\" align=\"center\"><div class=\"para\" label-module=\"para\">圣经<a target=\"_blank\" href=\"/item/%E5%88%97%E7%8E%8B%E8%AE%B0\">列王记</a>上7章23节</div></td><td align=\"center\" width=\"155\"><div class=\"para\" label-module=\"para\">-</div></td><td valign=\"top\" align=\"left\" width=\"155\"><div class=\"para\" label-module=\"para\">π=3</div></td></tr><tr><td align=\"center\" width=\"155\"><div class=\"para\" label-module=\"para\">前3世纪</div></td><td align=\"center\" width=\"155\"><div class=\"para\" label-module=\"para\"><a target=\"_blank\" href=\"/item/%E9%98%BF%E5%9F%BA%E7%B1%B3%E5%BE%B7\">阿基米德</a></div></td><td align=\"center\" width=\"155\"><div class=\"para\" label-module=\"para\"><a target=\"_blank\" href=\"/item/%E5%8F%A4%E5%B8%8C%E8%85%8A/14206\" data-lemmaid=\"14206\">古希腊</a></div></td><td align=\"center\" width=\"155\"><div class=\"para\" label-module=\"para\">3</div></td><td valign=\"top\" align=\"left\" width=\"155\"><div class=\"para\" label-module=\"para\">π=3.1418</div></td></tr><tr><td align=\"center\" width=\"155\"><div class=\"para\" label-module=\"para\">公元前20年</div></td><td align=\"center\" width=\"155\"><div class=\"para\" label-module=\"para\"><a target=\"_blank\" href=\"/item/%E7%BB%B4%E7%89%B9%E9%B2%81%E5%A8%81\">维特鲁威</a></div></td><td align=\"center\" width=\"155\"><div class=\"para\" label-module=\"para\"><a target=\"_blank\" href=\"/item/%E5%8F%A4%E7%BD%97%E9%A9%AC\">古罗马</a></div></td><td align=\"center\" width=\"155\"><div class=\"para\" label-module=\"para\">1</div></td><td valign=\"top\" align=\"left\" width=\"155\"><div class=\"para\" label-module=\"para\">π=3.125</div></td></tr><tr><td align=\"center\" width=\"155\"><div class=\"para\" label-module=\"para\">公元前50年－公元前23年</div></td><td align=\"center\" width=\"155\"><div class=\"para\" label-module=\"para\"><a target=\"_blank\" href=\"/item/%E5%88%98%E6%AD%86/197347\" data-lemmaid=\"197347\">刘歆</a></div></td><td align=\"center\" width=\"155\"><div class=\"para\" label-module=\"para\">中国</div></td><td align=\"center\" width=\"155\"><div class=\"para\" label-module=\"para\">1</div></td><td valign=\"top\" align=\"left\" width=\"155\"><div class=\"para\" label-module=\"para\">π=3.1547</div></td></tr><tr><td align=\"center\" width=\"155\"><div class=\"para\" label-module=\"para\">130年</div></td><td align=\"center\" width=\"155\"><div class=\"para\" label-module=\"para\"><a target=\"_blank\" href=\"/item/%E5%BC%A0%E8%A1%A1\">张衡</a></div></td><td align=\"center\" width=\"155\"><div class=\"para\" label-module=\"para\">中国</div></td><td align=\"center\" width=\"155\"><div class=\"para\" label-module=\"para\">1</div></td><td valign=\"top\" align=\"left\" width=\"155\"><div class=\"para\" label-module=\"para\">π=3.162277…</div></td></tr><tr><td align=\"center\" width=\"155\"><div class=\"para\" label-module=\"para\">150年</div></td><td align=\"center\" width=\"155\"><div class=\"para\" label-module=\"para\">未知</div></td><td align=\"center\" width=\"155\"><div class=\"para\" label-module=\"para\"><a target=\"_blank\" href=\"/item/%E6%89%98%E5%8B%92%E5%AF%86\">托勒密</a></div></td><td align=\"center\" width=\"155\"><div class=\"para\" label-module=\"para\">3</div></td><td valign=\"top\" align=\"left\" width=\"155\"><div class=\"para\" label-module=\"para\">π=3.141666…</div></td></tr><tr><td align=\"center\" width=\"155\"><div class=\"para\" label-module=\"para\">250年</div></td><td align=\"center\" width=\"155\"><div class=\"para\" label-module=\"para\"><a target=\"_blank\" href=\"/item/%E7%8E%8B%E8%95%83\">王蕃</a></div></td><td align=\"center\" width=\"155\"><div class=\"para\" label-module=\"para\">中国</div></td><td align=\"center\" width=\"155\"><div class=\"para\" label-module=\"para\">1</div></td><td valign=\"top\" align=\"left\" width=\"155\"><div class=\"para\" label-module=\"para\">π=3.155555…</div></td></tr><tr><td align=\"center\" width=\"155\"><div class=\"para\" label-module=\"para\">263年</div></td><td align=\"center\" width=\"155\"><div class=\"para\" label-module=\"para\"><a target=\"_blank\" href=\"/item/%E5%88%98%E5%BE%BD\">刘徽</a></div></td><td align=\"center\" width=\"155\"><div class=\"para\" label-module=\"para\">中国</div></td><td align=\"center\" width=\"155\"><div class=\"para\" label-module=\"para\">5</div></td><td valign=\"top\" align=\"left\" width=\"155\"><div class=\"para\" label-module=\"para\">π=3.14159</div></td></tr><tr><td align=\"center\" width=\"155\"><div class=\"para\" label-module=\"para\">480年</div></td><td align=\"center\" width=\"155\"><div class=\"para\" label-module=\"para\"><a target=\"_blank\" href=\"/item/%E7%A5%96%E5%86%B2%E4%B9%8B\">祖冲之</a></div></td><td align=\"center\" width=\"155\"><div class=\"para\" label-module=\"para\">中国</div></td><td align=\"center\" width=\"155\"><div class=\"para\" label-module=\"para\">7</div></td><td valign=\"top\" align=\"left\" width=\"155\"><div class=\"para\" label-module=\"para\">3.1415926</div></td></tr><tr><td align=\"center\" width=\"155\"><div class=\"para\" label-module=\"para\">499年</div></td><td align=\"center\" width=\"155\"><div class=\"para\" label-module=\"para\"><a target=\"_blank\" href=\"/item/%E9%98%BF%E8%80%B6%E6%B3%A2%E5%A4%9A\">阿耶波多</a></div></td><td align=\"center\" width=\"155\"><div class=\"para\" label-module=\"para\">印度</div></td><td align=\"center\" width=\"155\"><div class=\"para\" label-module=\"para\">3</div></td><td valign=\"top\" align=\"left\" width=\"155\"><div class=\"para\" label-module=\"para\">π=3.1416</div></td></tr><tr><td align=\"center\" width=\"155\"><div class=\"para\" label-module=\"para\">598年</div></td><td align=\"center\" width=\"155\"><div class=\"para\" label-module=\"para\"><a target=\"_blank\" href=\"/item/%E5%A9%86%E7%BD%97%E6%91%A9%E7%AC%88%E5%A4%9A\">婆罗摩笈多</a></div></td><td align=\"center\" width=\"155\"><div class=\"para\" label-module=\"para\">印度</div></td><td align=\"center\" width=\"155\"><div class=\"para\" label-module=\"para\">1</div></td><td valign=\"top\" align=\"left\" width=\"155\"><div class=\"para\" label-module=\"para\">π=3.162277…</div></td></tr><tr><td align=\"center\" width=\"155\"><div class=\"para\" label-module=\"para\">800年</div></td><td align=\"center\" width=\"155\"><div class=\"para\" label-module=\"para\"><a target=\"_blank\" href=\"/item/%E8%8A%B1%E6%8B%89%E5%AD%90%E7%B1%B3\">花拉子米</a></div></td><td align=\"center\" width=\"155\"><div class=\"para\" label-module=\"para\">乌兹别克</div></td><td align=\"center\" width=\"155\"><div class=\"para\" label-module=\"para\">3</div></td><td valign=\"top\" align=\"left\" width=\"155\"><div class=\"para\" label-module=\"para\">π=3.1416</div></td></tr><tr><td align=\"center\" width=\"155\"><div class=\"para\" label-module=\"para\"><a target=\"_blank\" href=\"/item/12%E4%B8%96%E7%BA%AA\">12世纪</a></div></td><td align=\"center\" width=\"155\"><div class=\"para\" label-module=\"para\"><a target=\"_blank\" href=\"/item/%E5%A9%86%E4%BB%80%E8%BF%A6%E7%BD%97%E7%AC%AC%E4%BA%8C\">婆什迦罗第二</a></div></td><td align=\"center\" width=\"155\"><div class=\"para\" label-module=\"para\">印度</div></td><td align=\"center\" width=\"155\"><div class=\"para\" label-module=\"para\">4</div></td><td valign=\"top\" align=\"left\" width=\"155\"><div class=\"para\" label-module=\"para\">π=3.14156</div></td></tr><tr><td align=\"center\" width=\"155\"><div class=\"para\" label-module=\"para\">1220年</div></td><td align=\"center\" width=\"155\"><div class=\"para\" label-module=\"para\"><a target=\"_blank\" href=\"/item/%E6%96%90%E6%B3%A2%E9%82%A3%E5%A5%91\">斐波那契</a></div></td><td align=\"center\" width=\"155\"><div class=\"para\" label-module=\"para\">意大利</div></td><td align=\"center\" width=\"155\"><div class=\"para\" label-module=\"para\">3</div></td><td valign=\"top\" align=\"left\" width=\"155\"><div class=\"para\" label-module=\"para\">π=3.141818</div></td></tr><tr><td align=\"center\" width=\"155\"><div class=\"para\" label-module=\"para\">1400年</div></td><td align=\"center\" width=\"155\"><div class=\"para\" label-module=\"para\">Madhava</div></td><td align=\"center\" width=\"155\"><br></td><td align=\"center\" width=\"155\"><div class=\"para\" label-module=\"para\">10</div></td><td valign=\"top\" align=\"left\" width=\"155\"><div class=\"para\" label-module=\"para\">π=3.14159265359</div></td></tr><tr><td align=\"center\" width=\"155\"><div class=\"para\" label-module=\"para\">1424年</div></td><td align=\"center\" width=\"155\"><div class=\"para\" label-module=\"para\">Jamshid Masud Al Kashi</div></td><td align=\"center\" width=\"155\"><br></td><td align=\"center\" width=\"155\"><div class=\"para\" label-module=\"para\">16</div></td><td valign=\"top\" align=\"left\" width=\"155\"><br></td></tr><tr><td align=\"center\" width=\"155\"><div class=\"para\" label-module=\"para\">1573年</div></td><td align=\"center\" width=\"155\"><div class=\"para\" label-module=\"para\">Valentinus Otho</div></td><td align=\"center\" width=\"155\"><br></td><td align=\"center\" width=\"155\"><div class=\"para\" label-module=\"para\">6</div></td><td valign=\"top\" align=\"left\" width=\"155\"><br></td></tr><tr><td align=\"center\" width=\"155\"><div class=\"para\" label-module=\"para\">1593年</div></td><td align=\"center\" width=\"155\"><div class=\"para\" label-module=\"para\"><a target=\"_blank\" href=\"/item/%E5%BC%97%E6%9C%97%E7%B4%A2%E7%93%A6%C2%B7%E9%9F%A6%E8%BE%BE\">弗朗索瓦·韦达</a></div></td><td align=\"center\" width=\"155\"><div class=\"para\" label-module=\"para\">法国<sup class=\"sup--normal\" data-sup=\"10\" data-ctrmap=\":10,\">\n",
    "[10]</sup><a class=\"sup-anchor\" name=\"ref_[10]_3287\">&nbsp;</a>\n",
    "</div></td><td align=\"center\" width=\"155\"><div class=\"para\" label-module=\"para\">9</div></td><td valign=\"top\" align=\"left\" width=\"155\"><br></td></tr><tr><td align=\"center\" width=\"155\"><div class=\"para\" label-module=\"para\">1593年</div></td><td align=\"center\" width=\"155\"><div class=\"para\" label-module=\"para\">Adriaan van Roomen</div></td><td align=\"center\" width=\"155\"><br></td><td align=\"center\" width=\"155\"><div class=\"para\" label-module=\"para\">15</div></td><td valign=\"top\" align=\"left\" width=\"155\"><br></td></tr><tr><td align=\"center\" width=\"155\"><div class=\"para\" label-module=\"para\">1596年</div></td><td rowspan=\"2\" align=\"center\"><div class=\"para\" label-module=\"para\"><a target=\"_blank\" href=\"/item/%E9%B2%81%E9%81%93%E5%A4%AB%C2%B7%E8%8C%83%C2%B7%E7%A7%91%E4%BC%8A%E4%BC%A6\">鲁道夫·范·科伊伦</a></div></td><td align=\"center\" width=\"155\"><br></td><td align=\"center\" width=\"155\"><div class=\"para\" label-module=\"para\">20</div></td><td valign=\"top\" align=\"left\" width=\"155\"><br></td></tr><tr><td align=\"center\" width=\"155\"><div class=\"para\" label-module=\"para\">1615年</div></td><td align=\"center\" width=\"155\"><br></td><td align=\"center\" width=\"155\"><div class=\"para\" label-module=\"para\">32</div></td><td valign=\"top\" align=\"left\" width=\"155\"><br></td></tr><tr><td align=\"center\" width=\"155\"><div class=\"para\" label-module=\"para\">1621年</div></td><td align=\"center\" width=\"155\"><div class=\"para\" label-module=\"para\"><a target=\"_blank\" href=\"/item/%E5%A8%81%E7%90%86%E5%8D%9A%C2%B7%E5%8F%B8%E4%B9%83%E8%80%B3\">威理博·司乃耳</a>，范·科伊伦的学生</div></td><td align=\"center\" width=\"155\"><br></td><td align=\"center\" width=\"155\"><div class=\"para\" label-module=\"para\">35</div></td><td valign=\"top\" align=\"left\" width=\"155\"><br></td></tr><tr><td align=\"center\" width=\"155\"><div class=\"para\" label-module=\"para\">1665年</div></td><td align=\"center\" width=\"155\"><div class=\"para\" label-module=\"para\"><a target=\"_blank\" href=\"/item/%E7%89%9B%E9%A1%BF\">牛顿</a></div></td><td align=\"center\" width=\"155\"><br></td><td align=\"center\" width=\"155\"><div class=\"para\" label-module=\"para\">16</div></td><td valign=\"top\" align=\"left\" width=\"155\"><br></td></tr><tr><td align=\"center\" width=\"155\"><div class=\"para\" label-module=\"para\">1699年</div></td><td align=\"center\" width=\"155\"><div class=\"para\" label-module=\"para\">Abraham Sharp</div></td><td align=\"center\" width=\"155\"><br></td><td align=\"center\" width=\"155\"><div class=\"para\" label-module=\"para\">71</div></td><td valign=\"top\" align=\"left\" width=\"155\"><br></td></tr><tr><td align=\"center\" width=\"155\"><div class=\"para\" label-module=\"para\">1700年</div></td><td align=\"center\" width=\"155\"><div class=\"para\" label-module=\"para\"><a target=\"_blank\" href=\"/item/%E5%85%B3%E5%AD%9D%E5%92%8C\">关孝和</a></div></td><td align=\"center\" width=\"155\"><br></td><td align=\"center\" width=\"155\"><div class=\"para\" label-module=\"para\">10</div></td><td valign=\"top\" align=\"left\" width=\"155\"><br></td></tr><tr><td align=\"center\" width=\"155\"><div class=\"para\" label-module=\"para\">1706年</div></td><td align=\"center\" width=\"155\"><div class=\"para\" label-module=\"para\">John Machin</div></td><td align=\"center\" width=\"155\"><br></td><td align=\"center\" width=\"155\"><div class=\"para\" label-module=\"para\">100</div></td><td valign=\"top\" align=\"left\" width=\"155\"><br></td></tr><tr><td align=\"center\" width=\"155\"><div class=\"para\" label-module=\"para\">1706年</div></td><td align=\"center\" width=\"155\"><div class=\"para\" label-module=\"para\">William Jones</div></td><td align=\"center\" width=\"155\"><br></td><td align=\"center\" width=\"155\"><br></td><td valign=\"top\" align=\"left\" width=\"155\"><div class=\"para\" label-module=\"para\">引入希腊字母π</div></td></tr><tr><td align=\"center\" width=\"155\"><div class=\"para\" label-module=\"para\">1719年</div></td><td align=\"center\" width=\"155\"><div class=\"para\" label-module=\"para\">De Lagny</div></td><td align=\"center\" width=\"155\"><br></td><td align=\"center\" width=\"155\"><div class=\"para\" label-module=\"para\">112</div></td><td valign=\"top\" align=\"left\" width=\"155\"><div class=\"para\" label-module=\"para\">得出127位</div><div class=\"para\" label-module=\"para\">前112位正确</div></td></tr><tr><td align=\"center\" width=\"155\"><div class=\"para\" label-module=\"para\">1723年</div></td><td align=\"center\" width=\"155\"><div class=\"para\" label-module=\"para\"><a target=\"_blank\" href=\"/item/%E5%BB%BA%E9%83%A8%E8%B4%A4%E5%BC%98\">建部贤弘</a></div></td><td align=\"center\" width=\"155\"><br></td><td align=\"center\" width=\"155\"><div class=\"para\" label-module=\"para\">41</div></td><td valign=\"top\" align=\"left\" width=\"155\"><br></td></tr><tr><td align=\"center\" width=\"155\"><div class=\"para\" label-module=\"para\">1730年</div></td><td align=\"center\" width=\"155\"><div class=\"para\" label-module=\"para\">Kamata</div></td><td align=\"center\" width=\"155\"><br></td><td align=\"center\" width=\"155\"><div class=\"para\" label-module=\"para\">25</div></td><td valign=\"top\" align=\"left\" width=\"155\"><br></td></tr><tr><td align=\"center\" width=\"155\"><div class=\"para\" label-module=\"para\">1734年</div></td><td align=\"center\" width=\"155\"><div class=\"para\" label-module=\"para\"><a target=\"_blank\" href=\"/item/%E8%8E%B1%E6%98%82%E5%93%88%E5%BE%B7%C2%B7%E6%AC%A7%E6%8B%89\">莱昂哈德·欧拉</a></div></td><td align=\"center\" width=\"155\"><br></td><td align=\"center\" width=\"155\"><br></td><td valign=\"top\" align=\"left\" width=\"155\"><div class=\"para\" label-module=\"para\">引入希腊字母π并肯定其普及性</div></td></tr><tr><td align=\"center\" width=\"155\"><div class=\"para\" label-module=\"para\">1739年</div></td><td align=\"center\" width=\"155\"><div class=\"para\" label-module=\"para\">松永良弼</div></td><td align=\"center\" width=\"155\"><br></td><td align=\"center\" width=\"155\"><div class=\"para\" label-module=\"para\">50</div></td><td valign=\"top\" align=\"left\" width=\"155\"><br></td></tr><tr><td align=\"center\" width=\"155\"><div class=\"para\" label-module=\"para\">1761年</div></td><td align=\"center\" width=\"155\"><div class=\"para\" label-module=\"para\"><a target=\"_blank\" href=\"/item/%E7%BA%A6%E7%BF%B0%C2%B7%E6%B5%B7%E5%9B%A0%E9%87%8C%E5%B8%8C%C2%B7%E5%85%B0%E4%BC%AF%E7%89%B9\">约翰·海因里希·兰伯特</a></div></td><td align=\"center\" width=\"155\"><br></td><td align=\"center\" width=\"155\"><br></td><td valign=\"top\" align=\"left\" width=\"155\"><div class=\"para\" label-module=\"para\">证明π是无理数</div></td></tr><tr><td align=\"center\" width=\"155\"><div class=\"para\" label-module=\"para\">1775年</div></td><td align=\"center\" width=\"155\"><div class=\"para\" label-module=\"para\"><a target=\"_blank\" href=\"/item/%E6%AC%A7%E6%8B%89\">欧拉</a></div></td><td align=\"center\" width=\"155\"><br></td><td align=\"center\" width=\"155\"><br></td><td valign=\"top\" align=\"left\" width=\"155\"><div class=\"para\" label-module=\"para\">指出π可能是超越数</div></td></tr><tr><td align=\"center\" width=\"155\"><div class=\"para\" label-module=\"para\">1794年</div></td><td align=\"center\" width=\"155\"><div class=\"para\" label-module=\"para\">Jurij Vega</div></td><td align=\"center\" width=\"155\"><br></td><td align=\"center\" width=\"155\"><div class=\"para\" label-module=\"para\">136</div></td><td valign=\"top\" align=\"left\" width=\"155\"><div class=\"para\" label-module=\"para\">得出140位小数</div><div class=\"para\" label-module=\"para\">前136位正确</div></td></tr><tr><td align=\"center\" width=\"155\"><div class=\"para\" label-module=\"para\">1794年</div></td><td align=\"center\" width=\"155\"><div class=\"para\" label-module=\"para\">阿德里安-马里·勒让德</div></td><td align=\"center\" width=\"155\"><br></td><td align=\"center\" width=\"155\"><br></td><td valign=\"top\" align=\"left\" width=\"155\"><div class=\"para\" label-module=\"para\">-</div></td></tr><tr><td align=\"center\" width=\"155\"><div class=\"para\" label-module=\"para\">1841年</div></td><td align=\"center\" width=\"155\"><div class=\"para\" label-module=\"para\">Rutherford</div></td><td align=\"center\" width=\"155\"><br></td><td align=\"center\" width=\"155\"><div class=\"para\" label-module=\"para\">152</div></td><td valign=\"top\" align=\"left\" width=\"155\"><div class=\"para\" label-module=\"para\">得出208位小数</div><div class=\"para\" label-module=\"para\">前152位正确</div></td></tr><tr><td align=\"center\" width=\"155\"><div class=\"para\" label-module=\"para\">1844年</div></td><td align=\"center\" width=\"155\"><div class=\"para\" label-module=\"para\">Zacharias Dase及Strassnitzky</div></td><td align=\"center\" width=\"155\"><br></td><td align=\"center\" width=\"155\"><div class=\"para\" label-module=\"para\">200</div></td><td valign=\"top\" align=\"left\" width=\"155\"><br></td></tr><tr><td align=\"center\" width=\"155\"><div class=\"para\" label-module=\"para\">1847年</div></td><td align=\"center\" width=\"155\"><div class=\"para\" label-module=\"para\">Thomas Clausen</div></td><td align=\"center\" width=\"155\"><br></td><td align=\"center\" width=\"155\"><div class=\"para\" label-module=\"para\">248</div></td><td valign=\"top\" align=\"left\" width=\"155\"><br></td></tr><tr><td align=\"center\" width=\"155\"><div class=\"para\" label-module=\"para\">1853年</div></td><td align=\"center\" width=\"155\"><div class=\"para\" label-module=\"para\">Lehmann</div></td><td align=\"center\" width=\"155\"><br></td><td align=\"center\" width=\"155\"><div class=\"para\" label-module=\"para\">261</div></td><td valign=\"top\" align=\"left\" width=\"155\"><br></td></tr><tr><td align=\"center\" width=\"155\"><div class=\"para\" label-module=\"para\">1853年</div></td><td align=\"center\" width=\"155\"><div class=\"para\" label-module=\"para\">William Rutherford</div></td><td align=\"center\" width=\"155\"><br></td><td align=\"center\" width=\"155\"><div class=\"para\" label-module=\"para\">440</div></td><td valign=\"top\" align=\"left\" width=\"155\"><br></td></tr><tr><td align=\"center\" width=\"155\"><div class=\"para\" label-module=\"para\">1855年</div></td><td align=\"center\" width=\"155\"><div class=\"para\" label-module=\"para\">Richter</div></td><td align=\"center\" width=\"155\"><br></td><td align=\"center\" width=\"155\"><div class=\"para\" label-module=\"para\">500</div></td><td valign=\"top\" align=\"left\" width=\"155\"><br></td></tr><tr><td align=\"center\" width=\"155\"><div class=\"para\" label-module=\"para\">1874年</div></td><td align=\"center\" width=\"155\"><div class=\"para\" label-module=\"para\">William Shanks</div></td><td align=\"center\" width=\"155\"><br></td><td align=\"center\" width=\"155\"><div class=\"para\" label-module=\"para\">527</div></td><td valign=\"top\" align=\"left\" width=\"155\"><div class=\"para\" label-module=\"para\">得出707位小数</div><div class=\"para\" label-module=\"para\">前527位正确</div></td></tr><tr><td align=\"center\" width=\"155\"><div class=\"para\" label-module=\"para\">1882年</div></td><td align=\"center\" width=\"155\"><div class=\"para\" label-module=\"para\">Lindemann</div></td><td align=\"center\" width=\"155\"><br></td><td align=\"center\" width=\"155\"><br></td><td valign=\"top\" align=\"left\" width=\"155\"><div class=\"para\" label-module=\"para\">证明π是超越数</div></td></tr><tr><td align=\"center\" width=\"155\"><div class=\"para\" label-module=\"para\">1946年</div></td><td rowspan=\"3\" align=\"center\"><div class=\"para\" label-module=\"para\">D. F. Ferguson</div></td><td align=\"center\" width=\"155\"><br></td><td align=\"center\" width=\"155\"><div class=\"para\" label-module=\"para\">620</div></td><td valign=\"top\" align=\"left\" width=\"155\"><br></td></tr><tr><td align=\"center\" width=\"155\"><div class=\"para\" label-module=\"para\">1947年</div></td><td align=\"center\" width=\"155\"><br></td><td align=\"center\" width=\"155\"><div class=\"para\" label-module=\"para\">710</div></td><td valign=\"top\" align=\"left\" width=\"155\"><br></td></tr><tr><td align=\"center\" width=\"155\"><div class=\"para\" label-module=\"para\">1947年</div></td><td align=\"center\" width=\"155\"><br></td><td align=\"center\" width=\"155\"><div class=\"para\" label-module=\"para\">808</div></td><td valign=\"top\" align=\"left\" width=\"155\"><br></td></tr><tr><td align=\"center\" width=\"155\"><div class=\"para\" label-module=\"para\">1949年</div></td><td align=\"center\" width=\"155\"><div class=\"para\" label-module=\"para\">J. W. Wrench爵士和L. R. Smith</div></td><td align=\"center\" width=\"155\"><br></td><td align=\"center\" width=\"155\"><div class=\"para\" label-module=\"para\">2,037</div></td><td valign=\"top\" align=\"left\" width=\"155\"><div class=\"para\" label-module=\"para\">首次使用计算机</div></td></tr><tr><td align=\"center\" width=\"155\"><div class=\"para\" label-module=\"para\">1955年</div></td><td align=\"center\" width=\"155\"><div class=\"para\" label-module=\"para\">J. W. Wrench爵士及L. R. Smith</div></td><td align=\"center\" width=\"155\"><br></td><td align=\"center\" width=\"155\"><div class=\"para\" label-module=\"para\">3,089</div></td><td valign=\"top\" align=\"left\" width=\"155\"><br></td></tr><tr><td align=\"center\" width=\"155\"><div class=\"para\" label-module=\"para\">1957年</div></td><td align=\"center\" width=\"155\"><div class=\"para\" label-module=\"para\">G.E.Felton</div></td><td align=\"center\" width=\"155\"><br></td><td align=\"center\" width=\"155\"><div class=\"para\" label-module=\"para\">7,480</div></td><td valign=\"top\" align=\"left\" width=\"155\"><br></td></tr><tr><td align=\"center\" width=\"155\"><div class=\"para\" label-module=\"para\">1958年</div></td><td align=\"center\" width=\"155\"><div class=\"para\" label-module=\"para\">Francois Genuys</div></td><td align=\"center\" width=\"155\"><br></td><td align=\"center\" width=\"155\"><div class=\"para\" label-module=\"para\">10,000</div></td><td valign=\"top\" align=\"left\" width=\"155\"><br></td></tr><tr><td align=\"center\" width=\"155\"><div class=\"para\" label-module=\"para\">1958年</div></td><td align=\"center\" width=\"155\"><div class=\"para\" label-module=\"para\">G.E.Felton</div></td><td align=\"center\" width=\"155\"><br></td><td align=\"center\" width=\"155\"><div class=\"para\" label-module=\"para\">10,020</div></td><td valign=\"top\" align=\"left\" width=\"155\"><br></td></tr><tr><td align=\"center\" width=\"155\"><div class=\"para\" label-module=\"para\">1959年</div></td><td align=\"center\" width=\"155\"><div class=\"para\" label-module=\"para\">Francois Genuys</div></td><td align=\"center\" width=\"155\"><br></td><td align=\"center\" width=\"155\"><div class=\"para\" label-module=\"para\">16,167</div></td><td valign=\"top\" align=\"left\" width=\"155\"><br></td></tr><tr><td align=\"center\" width=\"155\"><div class=\"para\" label-module=\"para\">1961年</div></td><td align=\"center\" width=\"155\"><div class=\"para\" label-module=\"para\">IBM 7090</div><div class=\"para\" label-module=\"para\"><a target=\"_blank\" href=\"/item/%E6%99%B6%E4%BD%93%E7%AE%A1%E8%AE%A1%E7%AE%97%E6%9C%BA\">晶体管计算机</a></div></td><td align=\"center\" width=\"155\"><br></td><td align=\"center\" width=\"155\"><div class=\"para\" label-module=\"para\">20,000</div></td><td valign=\"top\" align=\"left\" width=\"155\"><br></td></tr><tr><td align=\"center\" width=\"155\"><div class=\"para\" label-module=\"para\">1961年</div></td><td rowspan=\"4\" align=\"center\"><div class=\"para\" label-module=\"para\">J. W. Wrench, Jr，及L. R. Smith</div></td><td align=\"center\" width=\"155\"><br></td><td align=\"center\" width=\"155\"><div class=\"para\" label-module=\"para\">100,000</div></td><td valign=\"top\" align=\"left\" width=\"155\"><br></td></tr><tr><td align=\"center\" width=\"155\"><div class=\"para\" label-module=\"para\">1966年</div></td><td align=\"center\" width=\"155\"><br></td><td align=\"center\" width=\"155\"><div class=\"para\" label-module=\"para\">250,000</div></td><td valign=\"top\" align=\"left\" width=\"155\"><br></td></tr><tr><td align=\"center\" width=\"155\"><div class=\"para\" label-module=\"para\">1967年</div></td><td align=\"center\" width=\"155\"><br></td><td align=\"center\" width=\"155\"><div class=\"para\" label-module=\"para\">500,000</div></td><td valign=\"top\" align=\"left\" width=\"155\"><br></td></tr><tr><td align=\"center\" width=\"155\"><div class=\"para\" label-module=\"para\">1974年</div></td><td align=\"center\" width=\"155\"><br></td><td align=\"center\" width=\"155\"><div class=\"para\" label-module=\"para\">1,000,000</div></td><td valign=\"top\" align=\"left\" width=\"155\"><br></td></tr><tr><td align=\"center\" width=\"155\"><div class=\"para\" label-module=\"para\">1981年</div></td><td rowspan=\"4\" align=\"center\"><div class=\"para\" label-module=\"para\"><a target=\"_blank\" href=\"/item/%E9%87%91%E7%94%B0%E5%BA%B7%E6%AD%A3\">金田康正</a></div></td><td align=\"center\" width=\"155\"><br></td><td align=\"center\" width=\"155\"><div class=\"para\" label-module=\"para\">2,000,000</div></td><td valign=\"top\" align=\"left\" width=\"155\"><br></td></tr><tr><td align=\"center\" width=\"155\"><div class=\"para\" label-module=\"para\">1982年</div></td><td align=\"center\" width=\"155\"><br></td><td align=\"center\" width=\"155\"><div class=\"para\" label-module=\"para\">4,000,000</div></td><td valign=\"top\" align=\"left\" width=\"155\"><br></td></tr><tr><td align=\"center\" width=\"155\"><div class=\"para\" label-module=\"para\">1983年</div></td><td align=\"center\" width=\"155\"><br></td><td align=\"center\" width=\"155\"><div class=\"para\" label-module=\"para\">8,000,000</div></td><td valign=\"top\" align=\"left\" width=\"155\"><br></td></tr><tr><td align=\"center\" width=\"155\"><div class=\"para\" label-module=\"para\">1983年</div></td><td align=\"center\" width=\"155\"><br></td><td align=\"center\" width=\"155\"><div class=\"para\" label-module=\"para\">16,000,000</div></td><td valign=\"top\" align=\"left\" width=\"155\"><br></td></tr><tr><td align=\"center\" width=\"155\"><div class=\"para\" label-module=\"para\">1985年</div></td><td align=\"center\" width=\"155\"><div class=\"para\" label-module=\"para\">Bill Gosper</div></td><td align=\"center\" width=\"155\"><br></td><td align=\"center\" width=\"155\"><div class=\"para\" label-module=\"para\">17,000,000</div></td><td valign=\"top\" align=\"left\" width=\"155\"><br></td></tr><tr><td align=\"center\" width=\"155\"><div class=\"para\" label-module=\"para\">1986年</div></td><td align=\"center\" width=\"155\"><div class=\"para\" label-module=\"para\">David H. Bailey</div></td><td align=\"center\" width=\"155\"><br></td><td align=\"center\" width=\"155\"><div class=\"para\" label-module=\"para\">29,000,000</div></td><td valign=\"top\" align=\"left\" width=\"155\"><br></td></tr><tr><td align=\"center\" width=\"155\"><div class=\"para\" label-module=\"para\">1986年</div></td><td rowspan=\"4\" align=\"center\"><div class=\"para\" label-module=\"para\">金田康正</div></td><td align=\"center\" width=\"155\"><br></td><td align=\"center\" width=\"155\"><div class=\"para\" label-module=\"para\">33,000,000</div></td><td valign=\"top\" align=\"left\" width=\"155\"><br></td></tr><tr><td align=\"center\" width=\"155\"><div class=\"para\" label-module=\"para\">1986年</div></td><td align=\"center\" width=\"155\"><br></td><td align=\"center\" width=\"155\"><div class=\"para\" label-module=\"para\">67,000,000</div></td><td valign=\"top\" align=\"left\" width=\"155\"><br></td></tr><tr><td align=\"center\" width=\"155\"><div class=\"para\" label-module=\"para\">1987年</div></td><td align=\"center\" width=\"155\"><br></td><td align=\"center\" width=\"155\"><div class=\"para\" label-module=\"para\">134,000,000</div></td><td valign=\"top\" align=\"left\" width=\"155\"><br></td></tr><tr><td align=\"center\" width=\"155\"><div class=\"para\" label-module=\"para\">1988年</div></td><td align=\"center\" width=\"155\"><br></td><td align=\"center\" width=\"155\"><div class=\"para\" label-module=\"para\">201,000,000</div></td><td valign=\"top\" align=\"left\" width=\"155\"><br></td></tr><tr><td align=\"center\" width=\"155\"><div class=\"para\" label-module=\"para\">1989年</div></td><td rowspan=\"2\" align=\"center\"><div class=\"para\" label-module=\"para\">楚诺维斯基兄弟</div></td><td align=\"center\" width=\"155\"><br></td><td align=\"center\" width=\"155\"><div class=\"para\" label-module=\"para\">480,000,000</div></td><td valign=\"top\" align=\"left\" width=\"155\"><br></td></tr><tr><td align=\"center\" width=\"155\"><div class=\"para\" label-module=\"para\">1989年</div></td><td align=\"center\" width=\"155\"><br></td><td align=\"center\" width=\"155\"><div class=\"para\" label-module=\"para\">535,000,000</div></td><td valign=\"top\" align=\"left\" width=\"155\"><br></td></tr><tr><td align=\"center\" width=\"155\"><div class=\"para\" label-module=\"para\">1989年</div></td><td align=\"center\" width=\"155\"><div class=\"para\" label-module=\"para\">金田康正</div></td><td align=\"center\" width=\"155\"><br></td><td align=\"center\" width=\"155\"><div class=\"para\" label-module=\"para\">536,000,000</div></td><td valign=\"top\" align=\"left\" width=\"155\"><br></td></tr><tr><td align=\"center\" width=\"155\"><div class=\"para\" label-module=\"para\">1989年</div></td><td align=\"center\" width=\"155\"><div class=\"para\" label-module=\"para\">楚诺维斯基兄弟</div></td><td align=\"center\" width=\"155\"><br></td><td align=\"center\" width=\"155\"><div class=\"para\" label-module=\"para\">1,011,000,000</div></td><td valign=\"top\" align=\"left\" width=\"155\"><br></td></tr><tr><td align=\"center\" width=\"155\"><div class=\"para\" label-module=\"para\">1989年</div></td><td rowspan=\"2\" align=\"center\"><div class=\"para\" label-module=\"para\">金田康正</div></td><td align=\"center\" width=\"155\"><br></td><td align=\"center\" width=\"155\"><div class=\"para\" label-module=\"para\">1,073,000,000</div></td><td valign=\"top\" align=\"left\" width=\"155\"><br></td></tr><tr><td align=\"center\" width=\"155\"><div class=\"para\" label-module=\"para\">1992年</div></td><td align=\"center\" width=\"155\"><br></td><td align=\"center\" width=\"155\"><div class=\"para\" label-module=\"para\">2,180,000,000</div></td><td valign=\"top\" align=\"left\" width=\"155\"><br></td></tr><tr><td align=\"center\" width=\"155\"><div class=\"para\" label-module=\"para\">1994年</div></td><td align=\"center\" width=\"155\"><div class=\"para\" label-module=\"para\">楚诺维斯基兄弟</div></td><td align=\"center\" width=\"155\"><br></td><td align=\"center\" width=\"155\"><div class=\"para\" label-module=\"para\">4,044,000,000</div></td><td valign=\"top\" align=\"left\" width=\"155\"><br></td></tr><tr><td align=\"center\" width=\"155\"><div class=\"para\" label-module=\"para\">1995年</div></td><td rowspan=\"2\" align=\"center\"><div class=\"para\" label-module=\"para\">金田康正和高桥大介</div></td><td align=\"center\" width=\"155\"><br></td><td align=\"center\" width=\"155\"><div class=\"para\" label-module=\"para\">4,294,960,000</div></td><td valign=\"top\" align=\"left\" width=\"155\"><br></td></tr><tr><td align=\"center\" width=\"155\"><div class=\"para\" label-module=\"para\">1995年</div></td><td align=\"center\" width=\"155\"><br></td><td align=\"center\" width=\"155\"><div class=\"para\" label-module=\"para\">6,000,000,000</div></td><td valign=\"top\" align=\"left\" width=\"155\"><br></td></tr><tr><td align=\"center\" width=\"155\"><div class=\"para\" label-module=\"para\">1996年</div></td><td align=\"center\" width=\"155\"><div class=\"para\" label-module=\"para\">楚诺维斯基兄弟</div></td><td align=\"center\" width=\"155\"><br></td><td align=\"center\" width=\"155\"><div class=\"para\" label-module=\"para\">8,000,000,000</div></td><td valign=\"top\" align=\"left\" width=\"155\"><br></td></tr><tr><td align=\"center\" width=\"155\"><div class=\"para\" label-module=\"para\">1997年</div></td><td rowspan=\"3\" align=\"center\"><div class=\"para\" label-module=\"para\">金田康正和高桥大介</div></td><td align=\"center\" width=\"155\"><br></td><td align=\"center\" width=\"155\"><div class=\"para\" label-module=\"para\">51,500,000,000</div></td><td valign=\"top\" align=\"left\" width=\"155\"><br></td></tr><tr><td align=\"center\" width=\"155\"><div class=\"para\" label-module=\"para\">1999年</div></td><td align=\"center\" width=\"155\"><br></td><td align=\"center\" width=\"155\"><div class=\"para\" label-module=\"para\">68,700,000,000</div></td><td valign=\"top\" align=\"left\" width=\"155\"><br></td></tr><tr><td align=\"center\" width=\"155\"><div class=\"para\" label-module=\"para\">1999年</div></td><td align=\"center\" width=\"155\"><br></td><td align=\"center\" width=\"155\"><div class=\"para\" label-module=\"para\">206,000,000,000</div></td><td valign=\"top\" align=\"left\" width=\"155\"><br></td></tr><tr><td align=\"center\" width=\"155\"><div class=\"para\" label-module=\"para\">2002年</div></td><td align=\"center\" width=\"155\"><div class=\"para\" label-module=\"para\">金田康正的队伍</div></td><td align=\"center\" width=\"155\"><br></td><td align=\"center\" width=\"155\"><div class=\"para\" label-module=\"para\">1,241,100,000,000</div></td><td valign=\"top\" align=\"left\" width=\"155\"><br></td></tr><tr><td align=\"center\" width=\"155\"><div class=\"para\" label-module=\"para\">2009年</div></td><td align=\"center\" width=\"155\"><div class=\"para\" label-module=\"para\">高桥大介</div></td><td align=\"center\" width=\"155\"><br></td><td align=\"center\" width=\"155\"><div class=\"para\" label-module=\"para\">2,576,980,370,000</div></td><td valign=\"top\" align=\"left\" width=\"155\"><br></td></tr><tr><td align=\"center\" width=\"155\"><div class=\"para\" label-module=\"para\">2009年</div></td><td align=\"center\" width=\"155\"><div class=\"para\" label-module=\"para\"><a target=\"_blank\" href=\"/item/%E6%B3%95%E5%B8%83%E9%87%8C%E6%96%AF%C2%B7%E8%B4%9D%E6%8B%89\">法布里斯·贝拉</a></div></td><td align=\"center\" width=\"155\"><div class=\"para\" label-module=\"para\">法国</div></td><td align=\"center\" width=\"155\"><div class=\"para\" label-module=\"para\">2,699,999,990,000</div></td><td valign=\"top\" align=\"left\" width=\"155\"><br></td></tr><tr><td align=\"center\" width=\"155\"><div class=\"para\" label-module=\"para\">2010年</div></td><td align=\"center\" width=\"155\"><div class=\"para\" label-module=\"para\">近藤茂</div></td><td align=\"center\" width=\"155\"><br></td><td align=\"center\" width=\"155\"><div class=\"para\" label-module=\"para\">5,000,000,000,000</div></td><td valign=\"top\" align=\"left\" width=\"155\"><div class=\"para\" label-module=\"para\"><sup class=\"sup--normal\" data-sup=\"11\" data-ctrmap=\":11,\">\n",
    "[11]</sup><a class=\"sup-anchor\" name=\"ref_[11]_3287\">&nbsp;</a>\n",
    "</div></td></tr><tr><td align=\"center\" width=\"155\"><div class=\"para\" label-module=\"para\">2011年</div></td><td align=\"center\" width=\"155\"><div class=\"para\" label-module=\"para\"><a target=\"_blank\" href=\"/item/IBM/9190\" data-lemmaid=\"9190\">IBM</a>“蓝色基因”</div><div class=\"para\" label-module=\"para\"><a target=\"_blank\" href=\"/item/%E8%B6%85%E7%BA%A7%E7%94%B5%E8%84%91/52211\" data-lemmaid=\"52211\">超级电脑</a></div></td><td align=\"center\" width=\"155\"><br></td><td align=\"center\" width=\"155\"><br></td><td valign=\"top\" align=\"left\" width=\"155\"><div class=\"para\" label-module=\"para\">π<sup class=\"normal\">2</sup>的前60,000,000,000,000位<a target=\"_blank\" href=\"/item/%E4%BA%8C%E8%BF%9B%E5%88%B6\">二进制</a>小数<sup class=\"sup--normal\" data-sup=\"12\" data-ctrmap=\":12,\">\n",
    "[12]</sup><a class=\"sup-anchor\" name=\"ref_[12]_3287\">&nbsp;</a>\n",
    "</div></td></tr></tbody></table>"
   ]
  },
  {
   "cell_type": "markdown",
   "id": "cc66fb7b",
   "metadata": {},
   "source": [
    "<p id=\"circle\">逼近法求Pi</p>"
   ]
  },
  {
   "cell_type": "code",
   "execution_count": null,
   "id": "79ec663c",
   "metadata": {},
   "outputs": [],
   "source": [
    "#1.首先，让我们来画一个圆，看看它产生的过程\n",
    "##求pi的方法与这个圆如何产生大致相同，接下来我们来分析过程\n",
    "circle()"
   ]
  },
  {
   "cell_type": "code",
   "execution_count": null,
   "id": "f2fcc460",
   "metadata": {},
   "outputs": [],
   "source": [
    "##模拟投掷法产生圆的函数\n",
    "def circle():\n",
    "    fre=int(input(\"Please in a number:\"))\n",
    "    import matplotlib.pyplot as plt\n",
    "    import random\n",
    "    plotX=[]\n",
    "    plotY=[]\n",
    "   \n",
    "    for j in range(fre):\n",
    "        i=0\n",
    "        while i<10000:\n",
    "            x=random.random()\n",
    "            y=random.random()\n",
    "            X=2*x-1\n",
    "            Y=2*y-1\n",
    "            sum=round(X*X+Y*Y,2)\n",
    "            \n",
    "            if sum==1.00:\n",
    "                i+=1\n",
    "                plotX.append(X)\n",
    "                plotY.append(Y)\n",
    "   \n",
    "    plt.plot(plotX,plotY)\n",
    "    plt.show()\n",
    "    print(len(plotX))"
   ]
  },
  {
   "cell_type": "markdown",
   "id": "d59de2fa",
   "metadata": {},
   "source": [
    "<p>2.在网上，找到这张单位圆的图片，进行下一步分析</p>\n",
    "<p>图片来源：<a href=\"https://www.shuxuele.com/\" style=\"text-decoration:none\">https://www.shuxuele.com/</a></p>\n",
    "<img src=\"https://www.shuxuele.com/geometry/images/unit-circle.svg\" title=\"单位圆。圆心在 (0, 0)\">"
   ]
  },
  {
   "cell_type": "markdown",
   "id": "e340b24a",
   "metadata": {},
   "source": [
    "<p>3.对上图，产生一个正方形，边长为圆的直径，圆于四条边同时相切。</p><p style=\"text-indent:2em\">那么此时圆的面积：</p><p style=\"text-indent:4em;color:red\">S1=Pi*R^2</p><p style=\"text-indent:2em\">正方形的面积：</p><p style=\"text-indent:4em;color:red\">S2=（2R）^2</p>\n",
    "<p style=\"text-indent:2em\">假设我们手里有足够多的且足够理想的针，我们没有主观意向的抛出，且每根针不会超出正方形，那么由概率的相关知识可以知道落在院内的概率为圆与正方形面积的比。即：</p>\n",
    "<p style=\"text-indent:4em;color:red\">f()=S1/s2=Pi*R^2/（2R）^2=Pi*r^2/4*R^2=Pi/4</p>\n",
    "<p style=\"text-indent:4em;color:red\">f()=Pi/4</p>"
   ]
  },
  {
   "cell_type": "markdown",
   "id": "5d1c2f8b",
   "metadata": {},
   "source": [
    "<p>4.当抛出的足够多时，落在圆内的概率为：</p>\n",
    "<p style=\"text-indent:4em;color:red\">f()=f(落在圆内的次数)/f(总次数)</p>"
   ]
  },
  {
   "cell_type": "markdown",
   "id": "6ed329bb",
   "metadata": {},
   "source": [
    "5.用随机数来模拟抛出的针，用坐标来表示针的位置<span style=\"color:red\">（x,y）</span>，那么在圆内点的条件是<span style=\"color:red\">x^2+y^2</span><=1,用代码来写如下："
   ]
  },
  {
   "cell_type": "markdown",
   "id": "ccd838ad",
   "metadata": {},
   "source": [
    "<p>6.由前面可以知道：</p><p style=\"text-indent:4em;color:red\">f()=f(落在圆内的次数)/f(总次数)=Pi/4</p><p>即：</p><p style=\"text-indent:4em;color:red\">Pi=4*(f(落在圆内的次数)/f(总次数))</p>"
   ]
  },
  {
   "cell_type": "code",
   "execution_count": null,
   "id": "951164ca",
   "metadata": {},
   "outputs": [],
   "source": [
    "#7.调用f()函数，计算Pi\n",
    "f(6000000)"
   ]
  },
  {
   "cell_type": "code",
   "execution_count": null,
   "id": "fcf4bd65",
   "metadata": {},
   "outputs": [],
   "source": [
    "#如果不怕数据被污染，可以把数组和变量放到外面\n",
    "def f(frequence):\n",
    "    '''一个函数，辅助计算Pi的值'''\n",
    "    import matplotlib.pyplot as plt\n",
    "    import random\n",
    "    #确保本次数据不被污染，清空数组，计数变量清零\n",
    "    freOfList=[0,0]\n",
    "    freQue=0\n",
    "    freCir=0\n",
    "    for i in range(frequence):\n",
    "        x=random.random()\n",
    "        y=random.random()\n",
    "        X=2*x-1\n",
    "        Y=2*y-1\n",
    "        sum=X*X+Y*Y\n",
    "\n",
    "        freQue+=1\n",
    "\n",
    "        if sum<=1:\n",
    "            freCir+=1\n",
    "\n",
    "    freOfList[0]=freCir\n",
    "    freOfList[1]=freQue\n",
    "    \n",
    "    Pi=4*(freOfList[0]/freOfList[1])\n",
    "    return \"得到的近似Pi值为{}\".format(Pi)"
   ]
  },
  {
   "cell_type": "markdown",
   "id": "5affa61b",
   "metadata": {},
   "source": [
    "<a href=\"#firstPage\" style=\"float:right;margin-right:50px;text-decoration:none;color:red\">点击返回首页</a>"
   ]
  },
  {
   "cell_type": "markdown",
   "id": "3b647ef3",
   "metadata": {},
   "source": [
    "<p id=\"set\" style=\"font-size:20px;color:red\">3.Set</p>"
   ]
  },
  {
   "cell_type": "markdown",
   "id": "64fea4cf",
   "metadata": {},
   "source": [
    "<p id=\"set-content\" style=\"font-size:15px\">3.1 概念与理解</p>"
   ]
  },
  {
   "cell_type": "markdown",
   "id": "1a0f39bc",
   "metadata": {},
   "source": [
    "概念详见：https://www.runoob.com/python/python-func-set.html"
   ]
  },
  {
   "cell_type": "markdown",
   "id": "2572a5b4",
   "metadata": {},
   "source": [
    "理解：set就是一个集合，没错，就是大家高中数学第一节课的内容。集合的特性：无序性，互异性，确定性。集合用{}来表示。集合有啥操作，它就有啥！"
   ]
  },
  {
   "cell_type": "markdown",
   "id": "ac98b839",
   "metadata": {},
   "source": [
    "<p id=\"set-create\" style=\"font-size:15px\">3.2 创建set：{}</p>"
   ]
  },
  {
   "cell_type": "code",
   "execution_count": null,
   "id": "342a90a7",
   "metadata": {},
   "outputs": [],
   "source": [
    "##直接{}就好了\n",
    "exampleSet={1,2,3,4,5,1,\"oqjdm\",9,0,0}\n",
    "exampleSet"
   ]
  },
  {
   "cell_type": "markdown",
   "id": "6602fdb3",
   "metadata": {},
   "source": [
    "<p id=\"set-baseHandle1\" style=\"font-size:15px\">3.3 基本操作1-增删查</p>"
   ]
  },
  {
   "cell_type": "code",
   "execution_count": null,
   "id": "5d4c42ee",
   "metadata": {},
   "outputs": [],
   "source": [
    "#1.通过add()方法增加新元素，如果集合没有这个元素，则添加，如果有，不添加，且不报错\n",
    "exampleSet.add(88)\n",
    "print(exampleSet)\n",
    "exampleSet.add(\"oqjdm\")\n",
    "print(exampleSet)"
   ]
  },
  {
   "cell_type": "code",
   "execution_count": null,
   "id": "c5164355",
   "metadata": {},
   "outputs": [],
   "source": [
    "#2.通过remove()方法删除元素，有则删除，没有，报错\n",
    "exampleSet.remove(\"oqjdm\")\n",
    "print(exampleSet)\n",
    "#exampleSet.remove(\"oqjdm\")\n",
    "#print(exampleSet)"
   ]
  },
  {
   "cell_type": "code",
   "execution_count": null,
   "id": "1af56640",
   "metadata": {},
   "outputs": [],
   "source": [
    "#3.因为集合是无序的，所以没有索引，要查看元素，只能遍历集合\n",
    "for i in exampleSet:\n",
    "    print(i)\n",
    "  #或者可以判断在不在集合\n",
    "print(0 in exampleSet)\n",
    "print(99 in exampleSet)"
   ]
  },
  {
   "cell_type": "markdown",
   "id": "d083c501",
   "metadata": {},
   "source": [
    "<p id=\"set-baseHandle2\" style=\"font-size:15px\">3.4 基本操作2-并交差补</p>"
   ]
  },
  {
   "cell_type": "code",
   "execution_count": null,
   "id": "8ab43f41",
   "metadata": {},
   "outputs": [],
   "source": [
    "#创建集合\n",
    "sampleF={1,2,3,4,5,6}\n",
    "sampleS={4,5,6,7,8,9}"
   ]
  },
  {
   "cell_type": "code",
   "execution_count": null,
   "id": "f0be0ba2",
   "metadata": {},
   "outputs": [],
   "source": [
    "#1.并集\n",
    "print(sampleF|sampleS)"
   ]
  },
  {
   "cell_type": "code",
   "execution_count": null,
   "id": "8886da6a",
   "metadata": {},
   "outputs": [],
   "source": [
    "#2.交集\n",
    "print(sampleF&sampleS)"
   ]
  },
  {
   "cell_type": "code",
   "execution_count": null,
   "id": "fdd439fd",
   "metadata": {},
   "outputs": [],
   "source": [
    "#3.差集\n",
    "print(sampleF-sampleS)\n",
    "print(sampleS-sampleF)"
   ]
  },
  {
   "cell_type": "code",
   "execution_count": null,
   "id": "9cbdcdac",
   "metadata": {},
   "outputs": [],
   "source": [
    "#4.补集\n",
    "print(sampleF^sampleS)"
   ]
  },
  {
   "cell_type": "markdown",
   "id": "abf9e09a",
   "metadata": {},
   "source": [
    "<p id=\"set-otherHandle\" style=\"font-size:15px\">3.5 其他操作</p>"
   ]
  },
  {
   "cell_type": "code",
   "execution_count": null,
   "id": "14492b6e",
   "metadata": {},
   "outputs": [],
   "source": [
    "#1.对list操作，产生对应的set\n",
    "sampleList=[1,2,1,2,3,4,\"shiguang\"]\n",
    "print(set(sampleList))"
   ]
  },
  {
   "cell_type": "code",
   "execution_count": null,
   "id": "cd8783d7",
   "metadata": {},
   "outputs": [],
   "source": [
    "#2.对tuple操作\n",
    "sampleTuple=(1,2,3,1,1,2,\"suiyue\")\n",
    "print(set(sampleTuple))"
   ]
  },
  {
   "cell_type": "code",
   "execution_count": null,
   "id": "7ffac639",
   "metadata": {},
   "outputs": [],
   "source": [
    "#3.对str 操作,拆散与拼接\n",
    "sampleStr=\"shiguangdaiworuchu\"\n",
    "print(set(sampleStr))\n",
    "print(\"-\".join(set(sampleStr)))"
   ]
  },
  {
   "cell_type": "code",
   "execution_count": null,
   "id": "e30f8315",
   "metadata": {},
   "outputs": [],
   "source": [
    "#4.对dictonary 操作,默认取出keys\n",
    "sampleDict={\n",
    "    \"name\":\"张三\",\n",
    "    \"sex\":\"boy\",\n",
    "    \"age\":23,\n",
    "    \"bobby\":\"play game\"\n",
    "}\n",
    "print(set(sampleDict))\n",
    "print(set(sampleDict.values()))\n",
    "print(set(sampleDict.items()))"
   ]
  },
  {
   "cell_type": "markdown",
   "id": "2b0808fd",
   "metadata": {},
   "source": [
    "<p id=\"gitHandle\" style=\"font-size:15px\">3.6 好用的托管工具：git</p>"
   ]
  },
  {
   "cell_type": "markdown",
   "id": "441bf5f7",
   "metadata": {},
   "source": [
    "下载地址：https://git-scm.com/"
   ]
  },
  {
   "cell_type": "markdown",
   "id": "a86ec42b",
   "metadata": {},
   "source": [
    "配合GitHub使用：https://github.com/"
   ]
  },
  {
   "cell_type": "markdown",
   "id": "68439f7d",
   "metadata": {},
   "source": [
    "<p style=\"text-indent:2em\">Fir.git 的四种状态</p>\n",
    "<img src=\"https://git-scm.com/book/en/v2/book/02-git-basics/images/lifecycle.png\" title=\"git status\">\n",
    "\n",
    "<p style=\"text-indent:2em\">Sec.git操作的三个区</p>\n",
    "<p style=\"text-indent:4em;color:red\">工作区：我们所打开文件夹</p>\n",
    "<p style=\"text-indent:4em;color:red\">暂存区：中间过程，也就是我们git命令操作的这个过程</p>\n",
    "<p style=\"text-indent:4em;color:red\">仓库区：最终结果，我们要把修改好的暂存区中的文件交给这个git仓库管理</p>"
   ]
  },
  {
   "cell_type": "markdown",
   "id": "f8b32aca",
   "metadata": {},
   "source": [
    "<p>1).Untracked；未被追踪，文件名为<span style=\"color:red\">红色</span>,符号为<span style=\"color:red\">??</span></p>\n",
    "<p>2).Staged：暂存区，所增加的文件暂时存储在这儿</p>\n",
    "<p>3).Unmodified：未被修改，文件的最终状态，表示提交完成，提示语句：<span style=\"font-weight:600\">nothing to commit, working tree clean</span></p>\n",
    "<p>4).Modified：文件被修改，未放入暂存区，文件名为<span style=\"color:red\">红色</span>,符号为<span style=\"color:red\">M</span>；文件被修改，放入暂存区，文件名为<span style=\"color:green\">绿色</span>,符号为<span style=\"color:green\">M</span></p>"
   ]
  },
  {
   "cell_type": "markdown",
   "id": "5cf5f55d",
   "metadata": {},
   "source": [
    "<P>2.一些简单的命令行操作</P>\n"
   ]
  },
  {
   "cell_type": "markdown",
   "id": "1e94535c",
   "metadata": {},
   "source": [
    " <p style=\"color:blue;text-indent:20em\">内容较长，不想阅读&nbsp;>>>&nbsp;>>><a href=\"#lastPage\" style=\"float:right;margin-right:100px;text-decoration:none;color:red\">点击跳过</a></p>"
   ]
  },
  {
   "cell_type": "markdown",
   "id": "132a93df",
   "metadata": {},
   "source": [
    "<p>我们按照一个完整的托管流程来学习</p>\n",
    "<dl style=\"text-indent:2em;margin-top:10px\">\n",
    "<li><a href=\"#gitConfig\" style=\"text-decoration:none\">1.配置git</a></li>\n",
    "<li><a href=\"#gitCommit\" style=\"text-decoration:none\">2.提交文件</a></li>\n",
    "<li><a href=\"#gitModify\" style=\"text-decoration:none\">3.修改文件</a></li>\n",
    "<li><a href=\"#gitRemove\" style=\"text-decoration:none\">4.移除文件</a></li>\n",
    "<li><a href=\"#gitReset\" style=\"text-decoration:none\">5.恢复文件</a></li>\n",
    "<li><a href=\"#gitConnect\" style=\"text-decoration:none\">5.连接远程仓库</a></li>\n",
    "    </dl>"
   ]
  },
  {
   "cell_type": "markdown",
   "id": "da2fbcb3",
   "metadata": {},
   "source": [
    "<p id=\"gitConfig\">第一部分：配置git</p>\n",
    "\n",
    "<p style=\"text-indent:2em\">Fir：设置用户名与邮箱，方便查找与联系,命令(注意空格)：</p>\n",
    "<p style=\"text-indent:4em;color:red\">git config user.name \"XXX\"</p>\n",
    "<p style=\"text-indent:4em;color:red\">git config user.email \"***@***.***\"</p>"
   ]
  },
  {
   "cell_type": "markdown",
   "id": "8c264364",
   "metadata": {},
   "source": [
    "\n",
    "<p id=\"gitCommit\">第二部分：提交文件</p>\n",
    "<p style=\"text-indent:2em\">打开项目所在目录</p>\n",
    "\n",
    "<p style=\"text-indent:2em\">Fir：初始化要托管的项目,命令(注意空格)：</p>\n",
    "<p style=\"text-indent:4em;color:red\">git init</p>\n",
    "\n",
    "<p style=\"text-indent:2em\">Sec：添加要托管的项目,命令(注意空格)：</p>\n",
    "<p style=\"text-indent:4em;color:red\">单个文件托管：git add file(文件名).***(文件格式)</p>\n",
    "<p style=\"text-indent:4em;color:red\">全文件夹文件托管：git add .</p>\n",
    "\n",
    "<p style=\"text-indent:2em\">Thi：提交已添加到暂存区的项目,命令(注意空格)：</p>\n",
    "<p style=\"text-indent:4em;color:red\">git commit -m \"提交成功的提示信息\"</p>\n",
    "\n",
    "<p style=\"text-indent:2em\">For：检查文件状态，看有无遗漏,命令(注意空格)：</p>\n",
    "<p style=\"text-indent:4em;color:red\">全语句：git status</p>\n",
    "<p style=\"text-indent:4em;color:red\">简短语句：git status -s <span style=\"color:black\">或者</span> git status --short</p>"
   ]
  },
  {
   "cell_type": "markdown",
   "id": "faf89971",
   "metadata": {},
   "source": [
    "<p id=\"gitModify\">第三部分：修改文件</p>\n",
    "\n",
    "<p style=\"text-indent:2em\">Fir：发现修改的文件有错误，需要撤回,命令(注意空格)：</p>\n",
    "<p style=\"text-indent:4em;color:red\">git checkout file(文件名).***(文件格式)</p>\n",
    "\n",
    "<p style=\"text-indent:2em\">Sec：把修改后的文件添加到暂存区,命令(注意空格)：</p>\n",
    "<p style=\"text-indent:4em;color:red\">git add file(修改过的文件名).***(文件格式)</p>\n",
    "\n",
    "<p style=\"text-indent:2em\">Thi：把暂存区中已修改的文件提交,命令(注意空格)：</p>\n",
    "<p style=\"text-indent:4em;color:red\">git commit -m \"提交成功的提示信息\"</p>"
   ]
  },
  {
   "cell_type": "markdown",
   "id": "c3c9107e",
   "metadata": {},
   "source": [
    "<p id=\"gitRemove\">第四部分：移除文件</p>\n",
    "<p style=\"text-indent:2em\">Fir：移除暂存区中的文件,命令(注意空格)：</p>\n",
    "<p style=\"text-indent:4em;color:red\">git reset HEAD file(文件名).***(文件格式)</p>\n",
    "\n",
    "<p style=\"text-indent:2em\">Sec：移除git仓库中的文件,命令(注意空格)：</p>\n",
    "<p style=\"text-indent:4em;color:red\">git rm --cached file(文件名).***(文件格式)</p>\n",
    "\n",
    "<p style=\"text-indent:2em\">Thi：移除工作区与git仓库的文件,命令(注意空格)：</p>\n",
    "<p style=\"text-indent:4em;color:red\">git rm -f file(文件名).***(文件格式)</p>\n",
    "\n",
    "<p style=\"text-indent:2em\">For：跳过add提交修改后的文件,命令(注意空格)：</p>\n",
    "<p style=\"text-indent:4em;color:red\">git commit -a -m \"提交成功提示消息\"</p>"
   ]
  },
  {
   "cell_type": "markdown",
   "id": "6da76c69",
   "metadata": {},
   "source": [
    "<p id=\"gitReset\">第五部分：恢复文件</p>\n",
    "\n",
    "<p style=\"text-indent:2em\">Fir：先要查看历史记录,命令(注意空格)：</p>\n",
    "<p style=\"text-indent:4em;color:red\">查看所有历史记录：git log</p>\n",
    "<p style=\"text-indent:4em;color:red\">查看最近几条记录：git log -n</p>\n",
    "<p style=\"text-indent:4em;color:red\">记录用一行来显示：git log --pretty=oneline</p>\n",
    "\n",
    "<p style=\"text-indent:2em\">Sec：恢复版本,命令(注意空格)：</p>\n",
    "<p style=\"text-indent:4em;color:red\">查看所有历史记录：git reset --hard [id]<span style=\"color:blue\">(显示的那一长串值，hash值)</span></p>\n",
    "\n",
    "<p style=\"text-indent:2em\">Thi：恢复已经恢复的版本,命令(注意空格)：</p>\n",
    "<p style=\"text-indent:4em;color:red\">1.查看记录：git reflog</p>\n",
    "<p style=\"text-indent:4em;color:red\">2.恢复版本：git reset --hard [id]</p>"
   ]
  },
  {
   "cell_type": "markdown",
   "id": "1232d10a",
   "metadata": {},
   "source": [
    "<p id=\"gitConnect\">第六部分：与远程仓库建立连接(这个也可以在第二部分完成，即配置完成后即可与远程仓库连接)</p>\n",
    "<p style=\"text-indent:2em\">1.有两种方式分别为HTTP与SSH</p>\n",
    "\n",
    "<p style=\"text-indent:4em;color:red\">Fir：HTTP：0配置，但每次传送数据需要登录。</p>\n",
    "<p style=\"text-indent:4em;color:red\">Sec：SSH<span style=\"color:blue\">&nbsp;(推荐使用)</span>：需要额外配置，但不需要重复登录。</p>"
   ]
  },
  {
   "cell_type": "markdown",
   "id": "728452c2",
   "metadata": {},
   "source": [
    "<p style=\"text-indent:2em\">2.使用HTTP连接：</p>\n",
    "\n",
    "<p style=\"text-indent:4em;\">Fir：已经初始化了本地仓库</p>\n",
    "<p style=\"text-indent:4em;color:red\">连接：git remote add origin https://github.com/<span style=\"color:blue\">[username]</span>/<span style=\"color:blue\">[project-name]</span>.git</p>\n",
    "<p style=\"text-indent:4em;color:red\">传输：git push -u origin master</p>\n",
    "<p style=\"text-indent:4em;color:red\">等待：等待弹出登录界面，登录就算成功了。</p>\n",
    "\n",
    "<p style=\"text-indent:4em;\">Sec：没有初始化本地仓库</p>\n",
    "<p style=\"text-indent:4em;color:red\">初始化本地仓库：git init</p>\n",
    "<p style=\"text-indent:4em;color:red\">提交要托管的项目<span style=\"color:blue\">&nbsp;(举例为全部提交)</span>：git commit -a -m \"成功提示\"</p>\n",
    "<p style=\"text-indent:4em;color:red\">初始化了本地仓库。</p>\n"
   ]
  },
  {
   "cell_type": "markdown",
   "id": "a505cbb1",
   "metadata": {},
   "source": [
    "<p style=\"text-indent:2em\">3.使用SSH连接：</p>\n",
    "<p style=\"text-indent:4em\">Fir: 没有私钥：</p>\n",
    "<p style=\"text-indent:5em;color:red\"><span style=\"color:blue\">&nbsp;1.生成密钥,输入：</span>ssh-keygen -t rsa -b 4096 -C \"自己的注册github的邮箱\",然后按3次Enter键</p>\n",
    "<p style=\"text-indent:5em;color:red\">2.去github绑定</p>\n",
    "<p style=\"text-indent:5em;color:red\"><span style=\"color:blue\">&nbsp;3.检验是否绑定成功：</span>ssh -T git@github.com</p>\n",
    "<p style=\"text-indent:4em\">Sec: 已经有私钥并且绑定完成：</p>\n",
    "<p style=\"text-indent:5em;color:red\">1.输入：git remote add origin git@github.com:<span style=\"color:blue\">[username]</span>/<span style=\"color:blue\">[project-name]</span>.git</p>\n",
    "<p style=\"text-indent:4em;color:red\">传输：git push -u origin master</p>"
   ]
  },
  {
   "cell_type": "markdown",
   "id": "93eaa6a8",
   "metadata": {},
   "source": [
    "<p style=\"text-indent:2em\">5.两种方式只能选择一个，想要用另一个需要销毁原有连接</p>\n",
    "\n",
    "<p style=\"text-indent:4em;color:red\">输入：git remote remove origin</p>"
   ]
  },
  {
   "cell_type": "markdown",
   "id": "c6cd1cc0",
   "metadata": {},
   "source": [
    "<a href=\"#firstPage\" id=\"lastPage\" style=\"float:right;margin-right:50px;text-decoration:none;color:red\">点击返回首页</a>"
   ]
  },
  {
   "cell_type": "markdown",
   "id": "83d730d1",
   "metadata": {},
   "source": [
    "<p id=\"dictonary\" style=\"font-size:20px;color:red\">4.Dictonary：{}</p>"
   ]
  },
  {
   "cell_type": "markdown",
   "id": "d11a4203",
   "metadata": {},
   "source": [
    "<p id=\"dictonary-content\" style=\"font-size:15px\">4.1 概念与理解</p>"
   ]
  },
  {
   "cell_type": "markdown",
   "id": "7ff9fffe",
   "metadata": {},
   "source": [
    "概念详见：https://www.runoob.com/python/python-dictionary.html"
   ]
  },
  {
   "cell_type": "markdown",
   "id": "45da58dc",
   "metadata": {},
   "source": [
    "理解：dictonary-字典嘛，高级集合?可以看作是解释某项元素的文档，方便归类管理，抽象元素的具体化，比如对于人来说：每个人就是一个不同的个体，但我们在不失去个性的情况下去更清晰的去认识某一个或者某几个人，这时候，我们先可以抽象概念，比如他们都能直立行走，有性别之分，有不同的爱好等等，我们把由这些元素构成的集合（dict）叫做“人”，然后呢，对其各项key赋予值，则就构成了每一个人。字典就是这个过程。"
   ]
  },
  {
   "cell_type": "markdown",
   "id": "82f67dee",
   "metadata": {},
   "source": [
    "<p id=\"dictonary-create\" style=\"font-size:15px\">4.2 创建dictonary</p>"
   ]
  },
  {
   "cell_type": "code",
   "execution_count": null,
   "id": "7239b151",
   "metadata": {},
   "outputs": [],
   "source": [
    "#直接{}就完了，但必须是（key，values）即键值对\n",
    "exampleDict={\n",
    "    \"name\":\"故事\",\n",
    "    \"sex\":\"boy\",\n",
    "    \"age\":22,\n",
    "    \"height\":180,\n",
    "    \"weight\":\"75kg\",\n",
    "    \"hobby\":[\"play game\",\"basketball\",\"etc\"],\n",
    "    \"id\":\"49\"\n",
    "}\n",
    "exampleDictC={\n",
    "    \"name\":\"故事\",\n",
    "    \"sex\":\"boy\",\n",
    "    \"age\":22,\n",
    "    \"height\":180,\n",
    "    \"weight\":\"75kg\",\n",
    "    \"hobby\":[\"play game\",\"basketball\",\"etc\"],\n",
    "    \"id\":\"49\"\n",
    "}\n",
    "print(exampleDict)"
   ]
  },
  {
   "cell_type": "markdown",
   "id": "017c104d",
   "metadata": {},
   "source": [
    "<p id=\"dictonary-baseHandle\" style=\"font-size:15px\">4.3 基本操作</p>"
   ]
  },
  {
   "cell_type": "code",
   "execution_count": null,
   "id": "0f3ede83",
   "metadata": {},
   "outputs": [],
   "source": [
    "#1.增加元素\n",
    "exampleDict[\"address\"]=\"天庭\"\n",
    "exampleDict"
   ]
  },
  {
   "cell_type": "code",
   "execution_count": null,
   "id": "4411bee0",
   "metadata": {},
   "outputs": [],
   "source": [
    "#2.删除元素\n",
    " ##1.删除某一项\n",
    "del exampleDict[\"id\"]\n",
    "print(exampleDict)"
   ]
  },
  {
   "cell_type": "code",
   "execution_count": null,
   "id": "c577c751",
   "metadata": {},
   "outputs": [],
   "source": [
    "##2.清空字典\n",
    "exampleDictC.clear()\n",
    "print(exampleDictC)"
   ]
  },
  {
   "cell_type": "code",
   "execution_count": null,
   "id": "dd5a657d",
   "metadata": {},
   "outputs": [],
   "source": [
    "##3.删除字典\n",
    "del exampleDictC\n",
    "print(exampleDictC)"
   ]
  },
  {
   "cell_type": "code",
   "execution_count": null,
   "id": "aae7a061",
   "metadata": {},
   "outputs": [],
   "source": [
    "##4.删除指定的值\n",
    "print(exampleDict)\n",
    "print(exampleDict.pop(\"name\"))\n",
    "print(exampleDict)"
   ]
  },
  {
   "cell_type": "code",
   "execution_count": null,
   "id": "e15033f2",
   "metadata": {},
   "outputs": [],
   "source": [
    "#3.改变值\n",
    "exampleDict[\"age\"]=18\n",
    "print(exampleDict)"
   ]
  },
  {
   "cell_type": "code",
   "execution_count": null,
   "id": "fbe48a2a",
   "metadata": {},
   "outputs": [],
   "source": [
    "#4.查看字典\n",
    "#1)看某一项\n",
    "print(exampleDict[\"name\"])\n",
    "print(exampleDict.get(\"name\"))"
   ]
  },
  {
   "cell_type": "code",
   "execution_count": null,
   "id": "14168b95",
   "metadata": {},
   "outputs": [],
   "source": [
    "#2)查看字典\n",
    "for i in exampleDict:\n",
    "    print(i,exampleDict[i])"
   ]
  },
  {
   "cell_type": "code",
   "execution_count": null,
   "id": "b2659c9e",
   "metadata": {},
   "outputs": [],
   "source": [
    "#3)看keys\n",
    "print(exampleDict.keys())"
   ]
  },
  {
   "cell_type": "code",
   "execution_count": null,
   "id": "f7f391e6",
   "metadata": {},
   "outputs": [],
   "source": [
    "#4)看values\n",
    "print(exampleDict.values())"
   ]
  },
  {
   "cell_type": "code",
   "execution_count": null,
   "id": "5e2ceb31",
   "metadata": {},
   "outputs": [],
   "source": [
    "#5)看整体\n",
    "print(exampleDict.items())"
   ]
  },
  {
   "cell_type": "code",
   "execution_count": null,
   "id": "dad33f5a",
   "metadata": {},
   "outputs": [],
   "source": [
    "import sys,this\n",
    "sys.path"
   ]
  },
  {
   "cell_type": "markdown",
   "id": "8c12163e",
   "metadata": {},
   "source": [
    "<p id=\"plt\" style=\"font-size:15px\">4.4 二项式定理及图表练习</p>"
   ]
  },
  {
   "cell_type": "markdown",
   "id": "560e93eb",
   "metadata": {},
   "source": [
    "1.引入模块并且了解其目录，其中yhsj是自己制作的模块"
   ]
  },
  {
   "cell_type": "code",
   "execution_count": null,
   "id": "2215c8b8",
   "metadata": {},
   "outputs": [],
   "source": [
    "import yhsj\n",
    "import matplotlib.pyplot as plt\n",
    "#print(dir(yhsj))\n",
    "#print(dir(plt))"
   ]
  },
  {
   "cell_type": "code",
   "execution_count": null,
   "id": "1d3ef4a8",
   "metadata": {},
   "outputs": [],
   "source": [
    "plt.figure(figsize=(10,10))\n",
    "\n",
    "plt.rcParams['font.sans-serif']=['Simhei']\n",
    "plt.rcParams['axes.unicode_minus']=False\n",
    "plt.subplots(2,2)\n",
    "ax1=plt.subplot(2,2,1)\n",
    "ax2=plt.subplot(2,2,2)\n",
    "ax3=plt.subplot(2,2,3)\n",
    "ax4=plt.subplot(2,2,4)\n",
    "\n",
    "for i in result:\n",
    "    dataOfY=i\n",
    "    dataOfX=[i for i in range(1,len(dataOfY)+1)]\n",
    "    \n",
    "    if result.index(i)<6:\n",
    "        ax1.plot(dataOfX,dataOfY,'-')\n",
    "        makeY=max(dataOfY)\n",
    "        makeX=dataOfY.index(makeY)\n",
    "        #print(makeY,makeX)\n",
    "        #print(makeX,makeY)\n",
    "        ax1.annotate(text=(makeX,makeY),xy=(makeX+1,makeY),xytext=(makeX,makeY+1),arrowprops=dict(arrowstyle='-|>'))\n",
    "        plt.xlim(0,8)\n",
    "        plt.ylim(0.150)\n",
    "        \n",
    "    elif result.index(i)<11:\n",
    "        ax2.plot(dataOfX,dataOfY,'-')\n",
    "        makeY=max(dataOfY)\n",
    "        makeX=dataOfY.index(makeY)\n",
    "        #print(makeY,makeX)\n",
    "        #print(makeX,makeY)\n",
    "        ax2.annotate(text=(makeX,makeY),xy=(makeX+1,makeY),xytext=(makeX,makeY+1),arrowprops=dict(arrowstyle='-|>'))\n",
    "        plt.xlim(0,10)\n",
    "        plt.ylim(0.1000)\n",
    "        \n",
    "    elif result.index(i)<101:\n",
    "        ax3.plot(dataOfX,dataOfY,'-')\n",
    "        makeY=max(dataOfY)\n",
    "        makeX=dataOfY.index(makeY)\n",
    "        #print(makeY,makeX)\n",
    "        #print(makeX,makeY)\n",
    "        ax3.annotate(text=(makeX,makeY),xy=(makeX+1,makeY),xytext=(makeX,makeY+1),arrowprops=dict(arrowstyle='-|>'))\n",
    "        plt.xlim(0,100)\n",
    "    else:\n",
    "        ax4.plot(dataOfX,dataOfY,'-')\n",
    "        makeY=max(dataOfY)\n",
    "        makeX=dataOfY.index(makeY)\n",
    "        #print(makeY,makeX)\n",
    "        #print(makeX,makeY)\n",
    "        ax4.annotate(text=(makeX,makeY),xy=(makeX+1,makeY),xytext=(makeX,makeY+1),arrowprops=dict(arrowstyle='-|>'))\n",
    "        plt.ylim(0,100000)  \n",
    "plt.show()"
   ]
  },
  {
   "cell_type": "code",
   "execution_count": null,
   "id": "d54e7b40",
   "metadata": {},
   "outputs": [],
   "source": [
    "result=yhsj.yangHuiT(160)"
   ]
  },
  {
   "cell_type": "markdown",
   "id": "7da48bc2",
   "metadata": {},
   "source": [
    "<a href=\"#firstPage\" id=\"lastPage\" style=\"float:right;margin-right:50px;text-decoration:none;color:red\">点击返回首页</a>"
   ]
  }
 ],
 "metadata": {
  "kernelspec": {
   "display_name": "Python 3 (ipykernel)",
   "language": "python",
   "name": "python3"
  },
  "language_info": {
   "codemirror_mode": {
    "name": "ipython",
    "version": 3
   },
   "file_extension": ".py",
   "mimetype": "text/x-python",
   "name": "python",
   "nbconvert_exporter": "python",
   "pygments_lexer": "ipython3",
   "version": "3.9.12"
  }
 },
 "nbformat": 4,
 "nbformat_minor": 5
}
