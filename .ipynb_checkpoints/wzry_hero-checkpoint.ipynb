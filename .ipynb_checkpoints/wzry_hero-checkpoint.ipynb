{
 "cells": [
  {
   "cell_type": "code",
   "execution_count": 1,
   "id": "5af2155c",
   "metadata": {},
   "outputs": [],
   "source": [
    "import requests"
   ]
  },
  {
   "cell_type": "code",
   "execution_count": 2,
   "id": "e820c4db",
   "metadata": {},
   "outputs": [],
   "source": [
    "import re"
   ]
  },
  {
   "cell_type": "markdown",
   "id": "9466e10f",
   "metadata": {},
   "source": [
    "王者荣耀"
   ]
  },
  {
   "cell_type": "code",
   "execution_count": 3,
   "id": "4ce02e39",
   "metadata": {},
   "outputs": [],
   "source": [
    "crowl_url='https://pvp.qq.com/web201605/herolist.shtml'"
   ]
  },
  {
   "cell_type": "code",
   "execution_count": 19,
   "id": "c8e18069",
   "metadata": {},
   "outputs": [],
   "source": [
    "crowl_r=requests.get(crowl_url).content.decode('gbk')"
   ]
  },
  {
   "cell_type": "markdown",
   "id": "e20c9990",
   "metadata": {},
   "source": [
    "1.通过bs来获取数据"
   ]
  },
  {
   "cell_type": "code",
   "execution_count": 5,
   "id": "bb582973",
   "metadata": {},
   "outputs": [],
   "source": [
    "from bs4 import BeautifulSoup"
   ]
  },
  {
   "cell_type": "code",
   "execution_count": 6,
   "id": "1e2f55ec",
   "metadata": {},
   "outputs": [],
   "source": [
    "html_tran=BeautifulSoup(crowl_r,\"html\")"
   ]
  },
  {
   "cell_type": "code",
   "execution_count": 7,
   "id": "5f03c7c4",
   "metadata": {},
   "outputs": [],
   "source": [
    "import time\n",
    "get_ul=html_tran.find_all('ul',class_='herolist clearfix')\n",
    "#we=get_html[0]('li')[1]('a')[0]['href']\n",
    "get_lis=get_ul[0]('li')\n",
    "hero_list=[]\n",
    "seq_hero=1\n",
    "for values in get_lis:\n",
    "    get_html='https://pvp.qq.com/web201605/'+values('a')[0]['href']\n",
    "    #time.sleep(0.00000001)\n",
    "    get_img='https:'+values('img')[0]['src']\n",
    "    get_name=values.text\n",
    "    get_time=time.time()\n",
    "    hero_list.append((seq_hero,get_html,get_img,get_name,get_time))\n",
    "    seq_hero+=1"
   ]
  },
  {
   "cell_type": "code",
   "execution_count": 8,
   "id": "7dec66ab",
   "metadata": {},
   "outputs": [],
   "source": [
    "import csv\n",
    "op_file=open(\"C:/Users/weixi/Desktop/wzry_hero.csv\",\"wt\",newline='')\n",
    "op_csv=csv.writer(op_file)\n",
    "header=[\"序号\",\"英雄链接\",\"图片链接\",\"英雄名字\",\"获取时间戳\"]\n",
    "op_csv.writerow((\"序号\",\"英雄链接\",\"图片链接\",\"英雄名字\",\"获取时间戳\"))\n",
    "for values in hero_list:\n",
    "    #print(str(values))\n",
    "    #strs=values[1]+values[2]\n",
    "    op_csv.writerow(values)\n",
    "op_file.close()"
   ]
  },
  {
   "cell_type": "markdown",
   "id": "8c666c74",
   "metadata": {},
   "source": [
    "2.通过正则表达式来获取"
   ]
  },
  {
   "cell_type": "raw",
   "id": "e7076b71",
   "metadata": {},
   "source": [
    "<a href=\"herodetail/505.shtml\" target=\"_blank\"><img\\r\\n                                        src=\"//game.gtimg.cn/images/yxzj/img201606/heroimg/505/505.jpg\" width=\"91\"\\r\\n                                        height=\"91\" alt=\"瑶\">瑶</a>"
   ]
  },
  {
   "cell_type": "code",
   "execution_count": 39,
   "id": "945fcdda",
   "metadata": {},
   "outputs": [
    {
     "data": {
      "text/plain": [
       "[('506', '506/506.jpg'),\n",
       " ('505', '505/505.jpg'),\n",
       " ('529', '529/529.jpg'),\n",
       " ('511', '511/511.jpg'),\n",
       " ('515', '515/515.jpg'),\n",
       " ('513', '513/513.jpg'),\n",
       " ('507', '507/507.jpg'),\n",
       " ('312', '312/312.jpg'),\n",
       " ('508', '508/508.jpg'),\n",
       " ('509', '509/509.jpg'),\n",
       " ('137', '137/137.jpg'),\n",
       " ('510', '510/510.jpg'),\n",
       " ('125', '125/125.jpg'),\n",
       " ('504', '504/504.jpg'),\n",
       " ('503', '503/503.jpg'),\n",
       " ('197', '197/197.jpg'),\n",
       " ('502', '502/502.jpg'),\n",
       " ('176', '176/176.jpg'),\n",
       " ('199', '199/199.jpg'),\n",
       " ('501', '501/501.jpg'),\n",
       " ('179', '179/179.jpg'),\n",
       " ('198', '198/198.jpg'),\n",
       " ('194', '194/194.jpg'),\n",
       " ('195', '195/195.jpg'),\n",
       " ('196', '196/196.jpg'),\n",
       " ('193', '193/193.jpg'),\n",
       " ('189', '189/189.jpg'),\n",
       " ('182', '182/182.jpg'),\n",
       " ('187', '187/187.jpg'),\n",
       " ('191', '191/191.jpg'),\n",
       " ('192', '192/192.jpg'),\n",
       " ('190', '190/190.jpg'),\n",
       " ('180', '180/180.jpg'),\n",
       " ('186', '186/186.jpg'),\n",
       " ('184', '184/184.jpg'),\n",
       " ('183', '183/183.jpg'),\n",
       " ('178', '178/178.jpg'),\n",
       " ('177', '177/177.jpg'),\n",
       " ('175', '175/175.jpg'),\n",
       " ('174', '174/174.jpg'),\n",
       " ('173', '173/173.jpg'),\n",
       " ('171', '171/171.jpg'),\n",
       " ('170', '170/170.jpg'),\n",
       " ('169', '169/169.jpg'),\n",
       " ('168', '168/168.jpg'),\n",
       " ('167', '167/167.jpg'),\n",
       " ('166', '166/166.jpg'),\n",
       " ('163', '163/163.jpg'),\n",
       " ('162', '162/162.jpg'),\n",
       " ('157', '157/157.jpg'),\n",
       " ('156', '156/156.jpg'),\n",
       " ('154', '154/154.jpg'),\n",
       " ('153', '153/153.jpg'),\n",
       " ('152', '152/152.jpg'),\n",
       " ('150', '150/150.jpg'),\n",
       " ('149', '149/149.jpg'),\n",
       " ('148', '148/148.jpg'),\n",
       " ('146', '146/146.jpg'),\n",
       " ('144', '144/144.jpg'),\n",
       " ('142', '142/142.jpg'),\n",
       " ('141', '141/141.jpg'),\n",
       " ('140', '140/140.jpg'),\n",
       " ('139', '139/139.jpg'),\n",
       " ('136', '136/136.jpg'),\n",
       " ('135', '135/135.jpg'),\n",
       " ('134', '134/134.jpg'),\n",
       " ('133', '133/133.jpg'),\n",
       " ('132', '132/132.jpg'),\n",
       " ('131', '131/131.jpg'),\n",
       " ('130', '130/130.jpg'),\n",
       " ('129', '129/129.jpg'),\n",
       " ('128', '128/128.jpg'),\n",
       " ('127', '127/127.jpg'),\n",
       " ('126', '126/126.jpg'),\n",
       " ('124', '124/124.jpg'),\n",
       " ('123', '123/123.jpg'),\n",
       " ('121', '121/121.jpg'),\n",
       " ('120', '120/120.jpg'),\n",
       " ('119', '119/119.jpg'),\n",
       " ('118', '118/118.jpg'),\n",
       " ('117', '117/117.jpg'),\n",
       " ('116', '116/116.jpg'),\n",
       " ('115', '115/115.jpg'),\n",
       " ('114', '114/114.jpg'),\n",
       " ('113', '113/113.jpg'),\n",
       " ('112', '112/112.jpg'),\n",
       " ('111', '111/111.jpg'),\n",
       " ('110', '110/110.jpg'),\n",
       " ('109', '109/109.jpg'),\n",
       " ('108', '108/108.jpg'),\n",
       " ('107', '107/107.jpg'),\n",
       " ('106', '106/106.jpg'),\n",
       " ('105', '105/105.jpg')]"
      ]
     },
     "execution_count": 39,
     "metadata": {},
     "output_type": "execute_result"
    }
   ],
   "source": [
    "wz_pattern=re.compile(r'''<a\\shref=\"herodetail/(.*?)\\.shtml\"\\starget=\"\\w+\"> #找到英雄链接\n",
    "                      <img\\s+src=\"//game.gtimg.cn/images/yxzj/img201606/heroimg/(.*?)\"\\s\\w+ #找到图片\n",
    "                      \n",
    "                      ''',re.X)\n",
    "wz_pattern2=re.compile('<a[\\w|\\s]+>(.*?)</a>')                    \n",
    "\n",
    "wz_hero_list=re.findall(wz_pattern,crowl_r)\n",
    "wz_hero_list"
   ]
  },
  {
   "cell_type": "markdown",
   "id": "36d219a1",
   "metadata": {},
   "source": [
    " <a href=\"https://pvp.qq.com/web201605/herodetail/529.shtml\" target=\"_blank\">https://pvp.qq.com/web201605/herodetail/529.shtml</a>"
   ]
  },
  {
   "cell_type": "markdown",
   "id": "b71d13b8",
   "metadata": {},
   "source": [
    "<p>https://game.gtimg.cn/images/yxzj/img201606/heroimg/505/505.jpg</p>\n",
    "<img src=\"https://game.gtimg.cn/images/yxzj/img201606/heroimg/505/505.jpg\" width=\"91\" height=\"91\" alt=\"瑶\">                                      "
   ]
  },
  {
   "cell_type": "code",
   "execution_count": 13,
   "id": "b649611a",
   "metadata": {},
   "outputs": [],
   "source": [
    "url_start='https://pvp.qq.com/web201605/'"
   ]
  },
  {
   "cell_type": "code",
   "execution_count": 14,
   "id": "64dc47b7",
   "metadata": {},
   "outputs": [
    {
     "ename": "IndexError",
     "evalue": "list index out of range",
     "output_type": "error",
     "traceback": [
      "\u001b[1;31m---------------------------------------------------------------------------\u001b[0m",
      "\u001b[1;31mIndexError\u001b[0m                                Traceback (most recent call last)",
      "Input \u001b[1;32mIn [14]\u001b[0m, in \u001b[0;36m<cell line: 1>\u001b[1;34m()\u001b[0m\n\u001b[1;32m----> 1\u001b[0m hero_url\u001b[38;5;241m=\u001b[39murl_start\u001b[38;5;241m+\u001b[39m\u001b[43mwz_hero_list\u001b[49m\u001b[43m[\u001b[49m\u001b[38;5;241;43m0\u001b[39;49m\u001b[43m]\u001b[49m\n\u001b[0;32m      2\u001b[0m hero_url\n",
      "\u001b[1;31mIndexError\u001b[0m: list index out of range"
     ]
    }
   ],
   "source": [
    "hero_url=url_start+wz_hero_list[0]\n",
    "hero_url"
   ]
  },
  {
   "cell_type": "code",
   "execution_count": null,
   "id": "c839641b",
   "metadata": {},
   "outputs": [],
   "source": []
  }
 ],
 "metadata": {
  "kernelspec": {
   "display_name": "Python 3 (ipykernel)",
   "language": "python",
   "name": "python3"
  },
  "language_info": {
   "codemirror_mode": {
    "name": "ipython",
    "version": 3
   },
   "file_extension": ".py",
   "mimetype": "text/x-python",
   "name": "python",
   "nbconvert_exporter": "python",
   "pygments_lexer": "ipython3",
   "version": "3.9.12"
  }
 },
 "nbformat": 4,
 "nbformat_minor": 5
}
