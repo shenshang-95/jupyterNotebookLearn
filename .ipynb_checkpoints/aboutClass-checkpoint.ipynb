{
 "cells": [
  {
   "cell_type": "markdown",
   "id": "7393ce2a",
   "metadata": {},
   "source": [
    "<p style=\"font-size:40px;text-align:center\">About Class</p>"
   ]
  },
  {
   "cell_type": "code",
   "execution_count": null,
   "id": "907ee58f",
   "metadata": {},
   "outputs": [],
   "source": [
    "class people():\n",
    "    def _init_(self,text):\n",
    "        self.text=text\n",
    "    def add(self,a,b):\n",
    "        return a+b\n",
    "    def __str__(self):\n",
    "        return self.text\n",
    "    def __repr__(self):\n",
    "        return \"(\"+self.text+\")\""
   ]
  },
  {
   "cell_type": "code",
   "execution_count": null,
   "id": "239a5952",
   "metadata": {},
   "outputs": [],
   "source": [
    "x=people()\n",
    "type(x)"
   ]
  },
  {
   "cell_type": "markdown",
   "id": "8c30327d",
   "metadata": {},
   "source": [
    "### matplotlib.pyplot 操作—饼图与直方图"
   ]
  },
  {
   "cell_type": "markdown",
   "id": "dbf8ae21",
   "metadata": {},
   "source": [
    "#### 饼图"
   ]
  },
  {
   "cell_type": "code",
   "execution_count": null,
   "id": "c1d47622",
   "metadata": {},
   "outputs": [],
   "source": [
    "import matplotlib.pyplot as plt"
   ]
  },
  {
   "cell_type": "code",
   "execution_count": null,
   "id": "25d08e72",
   "metadata": {},
   "outputs": [],
   "source": [
    "size=[1,2,3,4]\n",
    "\n",
    "plt.rcParams['font.sans-serif']=['SimHei']\n",
    "labels=[\"第一部分\",\"第二部分\",\"第三部分\",\"第四部分\"]\n",
    "plt.pie(size,labels=labels,autopct='%.1f%%',startangle=60,shadow=True)\n",
    "plt.show()"
   ]
  },
  {
   "cell_type": "markdown",
   "id": "cc0a59fe",
   "metadata": {},
   "source": [
    "#### 直方图"
   ]
  },
  {
   "cell_type": "code",
   "execution_count": null,
   "id": "989a5853",
   "metadata": {},
   "outputs": [],
   "source": [
    "import numpy as np\n",
    "import random"
   ]
  },
  {
   "cell_type": "code",
   "execution_count": null,
   "id": "e31b6bda",
   "metadata": {},
   "outputs": [],
   "source": [
    "def landScape():\n",
    "    data=[]\n",
    "    plt.rcParams['axes.unicode_minus']=False\n",
    "    data=[round(20*random.random(),0) for i in range(200)]\n",
    "    #print(data)\n",
    "    xlim=(0,20)\n",
    "    \n",
    "    plt.hist(data,bins=20,edgecolor=\"y\")\n",
    "    plt.show()"
   ]
  },
  {
   "cell_type": "code",
   "execution_count": null,
   "id": "6ee6f6a2",
   "metadata": {},
   "outputs": [],
   "source": [
    "def autoPlay():    \n",
    "    import time\n",
    "    start=time.time()\n",
    "    end=time.time()\n",
    "    timeSpace=end-start\n",
    "    print(timeSpace)\n",
    "    if timeSpace%3==0:\n",
    "        landScape()\n",
    "    autoPlay()\n",
    "autoPlay()"
   ]
  },
  {
   "cell_type": "code",
   "execution_count": null,
   "id": "d9b60c55",
   "metadata": {},
   "outputs": [],
   "source": []
  }
 ],
 "metadata": {
  "kernelspec": {
   "display_name": "Python 3 (ipykernel)",
   "language": "python",
   "name": "python3"
  },
  "language_info": {
   "codemirror_mode": {
    "name": "ipython",
    "version": 3
   },
   "file_extension": ".py",
   "mimetype": "text/x-python",
   "name": "python",
   "nbconvert_exporter": "python",
   "pygments_lexer": "ipython3",
   "version": "3.9.12"
  }
 },
 "nbformat": 4,
 "nbformat_minor": 5
}
