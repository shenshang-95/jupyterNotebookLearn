{
 "cells": [
  {
   "cell_type": "markdown",
   "id": "d69bda70",
   "metadata": {},
   "source": [
    "那年那兔那些事儿季别代号：1-5+番外 1689,2967,5559,6018,28541,5451"
   ]
  },
  {
   "cell_type": "code",
   "execution_count": null,
   "id": "a3f3432d",
   "metadata": {},
   "outputs": [],
   "source": [
    "season_list=[1689,2967,5559,6018,28541,5451]"
   ]
  },
  {
   "cell_type": "code",
   "execution_count": null,
   "id": "ff01371a",
   "metadata": {},
   "outputs": [],
   "source": [
    "import time"
   ]
  },
  {
   "cell_type": "markdown",
   "id": "e227e829",
   "metadata": {},
   "source": [
    "拼接各季地址"
   ]
  },
  {
   "cell_type": "code",
   "execution_count": null,
   "id": "0a8c5dd4",
   "metadata": {},
   "outputs": [],
   "source": [
    "for values in season_list:\n",
    "    url='https://bangumi.bilibili.com/web_api/get_ep_list?season_id=%s'%values\n",
    "    break\n",
    "    time.sleep(0.6)\n",
    "    print(url)"
   ]
  },
  {
   "cell_type": "code",
   "execution_count": null,
   "id": "044f98d4",
   "metadata": {},
   "outputs": [],
   "source": [
    "import requests"
   ]
  },
  {
   "cell_type": "code",
   "execution_count": null,
   "id": "cd8705b8",
   "metadata": {},
   "outputs": [],
   "source": [
    "r=requests.get(url)\n",
    "r.text"
   ]
  },
  {
   "cell_type": "code",
   "execution_count": null,
   "id": "f69784f0",
   "metadata": {},
   "outputs": [],
   "source": [
    "import json\n",
    "analy_str=json.loads(r.text)\n",
    "analy_str"
   ]
  },
  {
   "cell_type": "markdown",
   "id": "6884068c",
   "metadata": {},
   "source": [
    "弹幕XML：https://comment.bilibili.com/3216790.xml"
   ]
  },
  {
   "cell_type": "markdown",
   "id": "0e38af4b",
   "metadata": {},
   "source": [
    "拼接弹幕地址"
   ]
  },
  {
   "cell_type": "code",
   "execution_count": null,
   "id": "d8d3ee7f",
   "metadata": {},
   "outputs": [],
   "source": [
    "for values in analy_str[\"result\"]:\n",
    "    statistic_comment_url='https://comment.bilibili.com/%s.xml'%values['cid']\n",
    "    print(statistic_comment_url)\n",
    "    break"
   ]
  },
  {
   "cell_type": "code",
   "execution_count": null,
   "id": "1d995436",
   "metadata": {},
   "outputs": [],
   "source": [
    "res=requests.get(statistic_comment_url)\n",
    "res.content.decode('utf-8')\n",
    "#这个取出来只有1000条"
   ]
  },
  {
   "cell_type": "raw",
   "id": "4711a69b",
   "metadata": {},
   "source": [
    "用历史弹幕接口"
   ]
  },
  {
   "cell_type": "code",
   "execution_count": null,
   "id": "8ba023c1",
   "metadata": {},
   "outputs": [],
   "source": [
    "import requests\n",
    "for values in analy_str[\"result\"]:\n",
    "    print(type(values['cid']))\n",
    "    history_comment_url='https://comment.bilibili.com/rolldata.%s'%values['cid']\n",
    "    print(history_comment_url)\n",
    "    break"
   ]
  },
  {
   "cell_type": "code",
   "execution_count": null,
   "id": "4a856fba",
   "metadata": {},
   "outputs": [],
   "source": [
    "import requests\n",
    "history_comment_url='https://api.bilibili.com/x/v2/dm/history?type=1&date=2022-07-10&oid=3216790'\n",
    "rh=requests.get(history_comment_url)\n",
    "rh.content.decode('utf-8')"
   ]
  },
  {
   "cell_type": "markdown",
   "id": "8a75e19b",
   "metadata": {},
   "source": [
    "所以总的函数应该是："
   ]
  },
  {
   "cell_type": "code",
   "execution_count": null,
   "id": "fd463055",
   "metadata": {},
   "outputs": [],
   "source": [
    "import os \n",
    "#flag=True"
   ]
  },
  {
   "cell_type": "code",
   "execution_count": null,
   "id": "7e6534d2",
   "metadata": {},
   "outputs": [],
   "source": [
    "\n",
    "if not os.path.exists('C:/Users/weixi/Desktop/na_nian_na_tu'):\n",
    "        #os.chdir('..')\n",
    "        os.mkdir('C:/Users/weixi/Desktop/na_nian_na_tu')\n",
    "        #flag=False\n",
    "os.startfile(\"C:/Users/weixi/Desktop/na_nian_na_tu\")\n"
   ]
  },
  {
   "cell_type": "code",
   "execution_count": null,
   "id": "fb2fa59e",
   "metadata": {},
   "outputs": [],
   "source": [
    "\n",
    "def downloadTu():\n",
    "    import requests  #主要模块\n",
    "    import time      #缓冲，让数据保存全\n",
    "    import os        #建立保存文件夹以及文件\n",
    "    import json\n",
    "    season_id_list=[1689,2967,5559,6018,28541,5451]\n",
    "    \n",
    "    #1.建立文件夹\n",
    "    if not os.path.exists('C:/Users/weixi/Desktop/na_nian_na_tu'):\n",
    "        #os.chdir('..')\n",
    "        os.mkdir('C:/Users/weixi/Desktop/na_nian_na_tu')\n",
    "        #flag=False\n",
    "    os.startfile(\"C:/Users/weixi/Desktop/na_nian_na_tu\")\n",
    "\n",
    "    \n",
    "    #2.构建写入文件函数\n",
    "    def wrtxt(file_name,content):\n",
    "        os.chdir('../na_nian_na_tu')\n",
    "        #if os.path.exists(file_name):\n",
    "        op_file=open(file_name,'at',encoding=\"utf-8\")\n",
    "        #else:\n",
    "            #op_file=open(file_name,\"wt\",encoding=\"utf-8\")\n",
    "        op_file.write(content)\n",
    "        op_file.close()\n",
    "    \n",
    "    #3.开始抓取一级目录\n",
    "    def script_url_cata():\n",
    "        seq_season=1\n",
    "        for values in season_id_list:\n",
    "            \n",
    "            url_cata='https://bangumi.bilibili.com/web_api/get_ep_list?season_id=%s'%values\n",
    "            get_cata=requests.get(url_cata).text\n",
    "            \n",
    "            #os.chdir('../na_nian_na_tu')\n",
    "            \n",
    "            print(\"\\r\",\"DownLoading：%s/6,共6季。\"%seq_season)\n",
    "            \n",
    "            #直接解析，但是需要把字符串用json换为字典\n",
    "            get_url_source=json.loads(get_cata)\n",
    "            \n",
    "            eq=1\n",
    "            for values in get_url_source[\"result\"]:\n",
    "                \n",
    "                url_com='https://comment.bilibili.com/%s.xml'%values['cid']\n",
    "                \n",
    "                #print(url_com)\n",
    "                #print(type(get_cata),type(get_url_source))\n",
    "                #下载下来文本，应该是1000条\n",
    "                \n",
    "                get_com=requests.get(url_com).content.decode('utf-8')\n",
    "                \n",
    "                #print(get_com)\n",
    "                \n",
    "                get_main_com(get_com,seq_season,eq) \n",
    "                time.sleep(0.8)\n",
    "                \n",
    "                #print(type(get_com))\n",
    "                if eq==len(get_url_source[\"result\"]):\n",
    "                    print(\"\\r\",\"目前正在下载：第{}集，共{}集！\".format(eq,len(get_url_source[\"result\"])))\n",
    "                else:\n",
    "                    print(\"\\r\",\"目前正在下载：第{}集，共{}集！\".format(eq,len(get_url_source[\"result\"])),end=\"\")\n",
    "                    \n",
    "                eq+=1\n",
    "                \n",
    "            write_cata(get_cata,seq_season)\n",
    "            \n",
    "            seq_season+=1\n",
    "            \n",
    "            \n",
    "                \n",
    "    #4.拿出评论，和写入文件结合，构建成一个函数\n",
    "    \n",
    "    def get_main_com(str,seq_season,seq_eq):\n",
    "        seq=0\n",
    "        while True:\n",
    "            \n",
    "            seq+=1\n",
    "            start_pos=str.find(\"<d\")\n",
    "            str=str[start_pos+1:]\n",
    "            \n",
    "            second_pos=str.find(\">\")\n",
    "            str=str[second_pos+1:]\n",
    "            \n",
    "            end_pos=str.find(\"</\")\n",
    "            new_str=str[end_pos+4:]\n",
    "            if seq_season==6:\n",
    "                file_name=\"C:/Users/weixi/Desktop/na_nian_na_tu/番外 第{}集 弹幕.txt\".format(seq_eq)\n",
    "            else:\n",
    "                file_name=\"C:/Users/weixi/Desktop/na_nian_na_tu/第{}季 第{}集 弹幕.txt\".format(seq_season,seq_eq)\n",
    "                \n",
    "            #补0\n",
    "            seq_tran=\"%i\"%seq\n",
    "            seq_tran=\"0\"*(4-len(seq_tran))+seq_tran\n",
    "            inp_con=seq_tran+\"：\"+str[:end_pos]+\"\\n\"\n",
    "\n",
    "            #os.chdir('../na_nian_na_tu')\n",
    "\n",
    "            if os.path.exists(file_name):\n",
    "                op_file=open(file_name,'at',encoding=\"utf-8\")\n",
    "            else:\n",
    "                op_file=open(file_name,\"wt\",encoding=\"utf-8\")\n",
    "                \n",
    "            op_file.write(inp_con)\n",
    "\n",
    "            new_str=str[end_pos+4:]\n",
    "            #print(new_str)\n",
    "\n",
    "            if new_str:\n",
    "                pass\n",
    "            else:\n",
    "                break\n",
    "\n",
    "        op_file.close()\n",
    "        \n",
    "    #5.目录函数\n",
    "    def write_cata(get_cata,i):\n",
    "        with open('C:/Users/weixi/Desktop/na_nian_na_tu/get_cata.json','at',encoding='utf-8') as op_file:\n",
    "            #json.dump(get_content,op_file)\n",
    "            print(\"Start Writing：...\")\n",
    "            if i==6:\n",
    "                h2=\"番外\"\n",
    "            else:\n",
    "                h2=\"第%s季\"%i\n",
    "            op_file.write(h2+\"\\n\"+\"dict%s=\"%i+get_cata+\"\\r\")    \n",
    "            print(\"当前目录下载完成，并且已经写入get_cata.json文件\")\n",
    "                \n",
    "        #i+=1\n",
    "        time.sleep(0.3)\n",
    "    #4.这儿我在想，应该一边下载，一边解析呢，还是重新载入文件，个人认为：重新载入较好，虽然两者都有可能造成数据丢失，但我觉得，目录只要在就有方向\n",
    "    #但这样数据不好取，目前作罢\n",
    "    '''\n",
    "    def script_url_com():\n",
    "        with open('get_cata.json','r',encoding='utf-8') as op_file:\n",
    "            get_str_data=op_file.read()\n",
    "            print(get_str_data)\n",
    "            for j in range(1,7):\n",
    "                x1=dict1[\"result\"][j][\"cid\"]\n",
    "                print(x1)\n",
    "    script_url_com()\n",
    "    '''\n",
    "    #makedir()\n",
    "    script_url_cata()\n",
    "downloadTu()"
   ]
  },
  {
   "cell_type": "markdown",
   "id": "b53517c8",
   "metadata": {},
   "source": [
    "字符串切割，可以用正则来做"
   ]
  },
  {
   "cell_type": "code",
   "execution_count": null,
   "id": "0276307c",
   "metadata": {},
   "outputs": [],
   "source": [
    "\n",
    "def get_main_com(str):\n",
    "    seq=0\n",
    "    while True:\n",
    "        seq+=1\n",
    "        start_pos=str.find(\"<d\")\n",
    "        str=str[start_pos+1:]\n",
    "        second_pos=str.find(\">\")\n",
    "        str=str[second_pos+1:]\n",
    "        end_pos=str.find(\"</\")\n",
    "        print(str[:end_pos])\n",
    "        new_str=str[end_pos+4:]\n",
    "        print(new_str)\n",
    "        ass=\"omc%i\"%seq\n",
    "        print(ass)\n",
    "        print(type(seq))\n",
    "        if new_str:\n",
    "            pass\n",
    "        else:\n",
    "            break\n",
    "\n",
    "str='<d p=\"52.90800,5,25,15138834,1570940214,0,9cb60096,22962786784509952,11\">俄罗斯套娃</d><d p=\"15.84800,5,25,16777215,1568804586,0,c9ef915d,21843102495932416,11\">麻蛇羹汤给朕端上</d>'\n",
    "print(get_main_com(str))"
   ]
  },
  {
   "cell_type": "markdown",
   "id": "fba324bc",
   "metadata": {},
   "source": [
    "补0函数"
   ]
  },
  {
   "cell_type": "code",
   "execution_count": null,
   "id": "c1c0ed82",
   "metadata": {},
   "outputs": [],
   "source": [
    "seq=100\n",
    "seq_tran=\"%i\"%seq\n",
    "\n",
    "o=(4-len(seq_tran))\n",
    "    \n",
    "seq_tran=\"0\"*(4-len(seq_tran))+seq_tran\n",
    "print(seq_tran)"
   ]
  },
  {
   "cell_type": "markdown",
   "id": "6a052635",
   "metadata": {},
   "source": [
    "弹幕本地文件分析"
   ]
  },
  {
   "cell_type": "raw",
   "id": "ed5f4760",
   "metadata": {},
   "source": [
    "C:/Users/weixi/Desktop/na_nian_na_tu/"
   ]
  },
  {
   "cell_type": "code",
   "execution_count": null,
   "id": "de876425",
   "metadata": {},
   "outputs": [],
   "source": [
    "ep_list=[12,12,12,12,12,11,5]\n",
    "analysis_list=[]\n",
    "for i in range(1,7):\n",
    "    for j in range(1,ep_list[i]+1):\n",
    "        #print(i,j)\n",
    "        file_name=\"C:/Users/weixi/Desktop/na_nian_na_tu/第{}季 第{}集 弹幕.txt\".format(i,j)\n",
    "        op_file=open(file_name,\"r\",encoding=\"utf-8\")\n",
    "        analysis_list+=[line.split(\"：\")[1][:-2] for line in op_file.readlines()]\n",
    "        op_file.close()\n",
    "print(len(analysis_list))\n",
    "#print(analysis_list)"
   ]
  },
  {
   "cell_type": "code",
   "execution_count": null,
   "id": "88a08d5a",
   "metadata": {},
   "outputs": [],
   "source": [
    "import matplotlib.pyplot as plt"
   ]
  },
  {
   "cell_type": "code",
   "execution_count": null,
   "id": "4598ef4a",
   "metadata": {},
   "outputs": [],
   "source": [
    "import jieba\n",
    "import time"
   ]
  },
  {
   "cell_type": "code",
   "execution_count": null,
   "id": "8fb3f67f",
   "metadata": {},
   "outputs": [],
   "source": [
    "parse_list=[]\n",
    "for values in analysis_list:    \n",
    "    parse_list+=list(jieba.cut(values,cut_all=True))\n",
    "    #time.sleep(0.0000001)\n",
    "len(parse_list)"
   ]
  },
  {
   "cell_type": "code",
   "execution_count": null,
   "id": "10b1331b",
   "metadata": {},
   "outputs": [],
   "source": [
    "list2=list(parse_dict.items())\n",
    "#print(list(list2))\n",
    "for i in range(len(list2)):\n",
    "    for j in range(i+1,len(list2)):\n",
    "        if list2[i][1] < list2[j][1]:\n",
    "            list2[i],list2[j]=list2[j],list2[i]"
   ]
  },
  {
   "cell_type": "code",
   "execution_count": null,
   "id": "0de056f6",
   "metadata": {},
   "outputs": [],
   "source": [
    "from wordcloud import WordCloud "
   ]
  },
  {
   "cell_type": "markdown",
   "id": "0bed643a",
   "metadata": {},
   "source": [
    "词云"
   ]
  },
  {
   "cell_type": "code",
   "execution_count": null,
   "id": "65be784a",
   "metadata": {},
   "outputs": [],
   "source": [
    "wcl=WordCloud(font_path=r\"C:\\Windows\\Fonts\\simhei.ttf\").generate(word_source)\n",
    "#cc=wcl.to_file(\"C:/Users/weixi/Desktop/AE用图/图片/word.jpg\")\n",
    "plt.rcParams[\"font.sans-serif\"]=[\"Simhei\"]\n",
    "plt.imshow(wcl)\n",
    "plt.show()"
   ]
  }
 ],
 "metadata": {
  "kernelspec": {
   "display_name": "Python 3 (ipykernel)",
   "language": "python",
   "name": "python3"
  },
  "language_info": {
   "codemirror_mode": {
    "name": "ipython",
    "version": 3
   },
   "file_extension": ".py",
   "mimetype": "text/x-python",
   "name": "python",
   "nbconvert_exporter": "python",
   "pygments_lexer": "ipython3",
   "version": "3.9.12"
  }
 },
 "nbformat": 4,
 "nbformat_minor": 5
}
